{
  "nbformat": 4,
  "nbformat_minor": 0,
  "metadata": {
    "colab": {
      "provenance": [],
      "toc_visible": true,
      "include_colab_link": true
    },
    "kernelspec": {
      "name": "python3",
      "display_name": "Python 3"
    },
    "language_info": {
      "name": "python"
    }
  },
  "cells": [
    {
      "cell_type": "markdown",
      "metadata": {
        "id": "view-in-github",
        "colab_type": "text"
      },
      "source": [
        "<a href=\"https://colab.research.google.com/github/carlos-alves-one/-AI-Coursework-2/blob/main/glaucoma_detection_report.ipynb\" target=\"_parent\"><img src=\"https://colab.research.google.com/assets/colab-badge.svg\" alt=\"Open In Colab\"/></a>"
      ]
    },
    {
      "cell_type": "markdown",
      "source": [
        "### Goldsmiths University of London\n",
        "### MSc. Data Science and Artificial Intelligence\n",
        "### Module: Artificial Intelligence\n",
        "### Author: Carlos Manuel De Oliveira Alves\n",
        "### Student: cdeol003\n",
        "### Coursework No.2"
      ],
      "metadata": {
        "id": "xzMEUBjqyD2s"
      }
    },
    {
      "cell_type": "markdown",
      "source": [
        "#Project\n",
        "VisionGuard AI: Deep Learning for Early Glaucoma Detection"
      ],
      "metadata": {
        "id": "3m_s3jj2ykLt"
      }
    },
    {
      "cell_type": "markdown",
      "source": [
        "# Introduction"
      ],
      "metadata": {
        "id": "dKmrlfDHyrBK"
      }
    },
    {
      "cell_type": "markdown",
      "source": [
        "The purpose of this research is to outline the progression of a deep-learning model designed to identify glaucoma through the analysis of ocular pictures. Glaucoma is a debilitating ocular disorder that, if left undetected and untreated in its early stages, can result in complete vision loss. Effective screening procedures are necessary due to the asymptomatic nature of the early stages of glaucoma. Deep learning, specifically convolutional neural networks (CNNs), has demonstrated considerable potential in image identification tasks and can aid in the early detection of glaucoma. The dataset utilised in this research comprises a collection of ocular pictures accompanied by a binary classification showing the presence or absence of glaucoma. The ExpCDR, or 'Cup to Disc Ratio', is a crucial clinical parameter utilised in evaluating glaucoma for each image."
      ],
      "metadata": {
        "id": "J2ATgtijyt6k"
      }
    },
    {
      "cell_type": "markdown",
      "source": [
        "# Methodology"
      ],
      "metadata": {
        "id": "Z_0kKAKPzUBC"
      }
    },
    {
      "cell_type": "markdown",
      "source": [
        "## Data Preprocessing"
      ],
      "metadata": {
        "id": "KrJPhnITCbvL"
      }
    },
    {
      "cell_type": "markdown",
      "source": [
        "The photos will undergo a process of loading, resizing to a consistent dimension, and normalisation to ensure that their pixel values fall within the range of 0 to 1. Furthermore, it is possible to employ data augmentation methods, such as rotations, shifts, and flips, in order to augment the size and diversity of the dataset. This can be beneficial in mitigating the issue of overfitting."
      ],
      "metadata": {
        "id": "GolCWF_9Cc05"
      }
    },
    {
      "cell_type": "markdown",
      "source": [
        "### Load the data"
      ],
      "metadata": {
        "id": "vJxQknsHCnRD"
      }
    },
    {
      "cell_type": "code",
      "source": [
        "# Imports the 'drive' module from 'google.colab' and mounts the Google Drive to\n",
        "# the '/content/drive' directory in the Colab environment.\n",
        "from google.colab import drive\n",
        "drive.mount('/content/drive')\n"
      ],
      "metadata": {
        "colab": {
          "base_uri": "https://localhost:8080/"
        },
        "id": "J8qRwA8fCpGx",
        "outputId": "98e5b1aa-39a6-4412-84bb-efe66edbcf7b"
      },
      "execution_count": 1,
      "outputs": [
        {
          "output_type": "stream",
          "name": "stdout",
          "text": [
            "Mounted at /content/drive\n"
          ]
        }
      ]
    },
    {
      "cell_type": "code",
      "source": [
        "# Import the pandas library and give it the alias 'pd' for data manipulation and analysis\n",
        "import pandas as pd\n",
        "\n",
        "# Load the dataset glaucoma from Google Drive\n",
        "data_path = '/content/drive/MyDrive/glaucoma.csv'\n",
        "glaucoma_data = pd.read_csv(data_path)\n",
        "\n",
        "# Display the first few rows of the dataframe\n",
        "glaucoma_data.head()\n"
      ],
      "metadata": {
        "colab": {
          "base_uri": "https://localhost:8080/",
          "height": 206
        },
        "id": "yITsqdLEC_td",
        "outputId": "c6060f4d-4ce4-4034-aa2c-ed61ed5a1eb6"
      },
      "execution_count": 2,
      "outputs": [
        {
          "output_type": "execute_result",
          "data": {
            "text/plain": [
              "  Filename  ExpCDR Eye Set  Glaucoma\n",
              "0  001.jpg  0.7097  OD   A         0\n",
              "1  002.jpg  0.6953  OS   A         0\n",
              "2  003.jpg  0.9629  OS   A         0\n",
              "3  004.jpg  0.7246  OD   A         0\n",
              "4  005.jpg  0.6138  OS   A         0"
            ],
            "text/html": [
              "\n",
              "  <div id=\"df-d369f9cc-55ff-43ea-9867-6e0c4daec039\" class=\"colab-df-container\">\n",
              "    <div>\n",
              "<style scoped>\n",
              "    .dataframe tbody tr th:only-of-type {\n",
              "        vertical-align: middle;\n",
              "    }\n",
              "\n",
              "    .dataframe tbody tr th {\n",
              "        vertical-align: top;\n",
              "    }\n",
              "\n",
              "    .dataframe thead th {\n",
              "        text-align: right;\n",
              "    }\n",
              "</style>\n",
              "<table border=\"1\" class=\"dataframe\">\n",
              "  <thead>\n",
              "    <tr style=\"text-align: right;\">\n",
              "      <th></th>\n",
              "      <th>Filename</th>\n",
              "      <th>ExpCDR</th>\n",
              "      <th>Eye</th>\n",
              "      <th>Set</th>\n",
              "      <th>Glaucoma</th>\n",
              "    </tr>\n",
              "  </thead>\n",
              "  <tbody>\n",
              "    <tr>\n",
              "      <th>0</th>\n",
              "      <td>001.jpg</td>\n",
              "      <td>0.7097</td>\n",
              "      <td>OD</td>\n",
              "      <td>A</td>\n",
              "      <td>0</td>\n",
              "    </tr>\n",
              "    <tr>\n",
              "      <th>1</th>\n",
              "      <td>002.jpg</td>\n",
              "      <td>0.6953</td>\n",
              "      <td>OS</td>\n",
              "      <td>A</td>\n",
              "      <td>0</td>\n",
              "    </tr>\n",
              "    <tr>\n",
              "      <th>2</th>\n",
              "      <td>003.jpg</td>\n",
              "      <td>0.9629</td>\n",
              "      <td>OS</td>\n",
              "      <td>A</td>\n",
              "      <td>0</td>\n",
              "    </tr>\n",
              "    <tr>\n",
              "      <th>3</th>\n",
              "      <td>004.jpg</td>\n",
              "      <td>0.7246</td>\n",
              "      <td>OD</td>\n",
              "      <td>A</td>\n",
              "      <td>0</td>\n",
              "    </tr>\n",
              "    <tr>\n",
              "      <th>4</th>\n",
              "      <td>005.jpg</td>\n",
              "      <td>0.6138</td>\n",
              "      <td>OS</td>\n",
              "      <td>A</td>\n",
              "      <td>0</td>\n",
              "    </tr>\n",
              "  </tbody>\n",
              "</table>\n",
              "</div>\n",
              "    <div class=\"colab-df-buttons\">\n",
              "\n",
              "  <div class=\"colab-df-container\">\n",
              "    <button class=\"colab-df-convert\" onclick=\"convertToInteractive('df-d369f9cc-55ff-43ea-9867-6e0c4daec039')\"\n",
              "            title=\"Convert this dataframe to an interactive table.\"\n",
              "            style=\"display:none;\">\n",
              "\n",
              "  <svg xmlns=\"http://www.w3.org/2000/svg\" height=\"24px\" viewBox=\"0 -960 960 960\">\n",
              "    <path d=\"M120-120v-720h720v720H120Zm60-500h600v-160H180v160Zm220 220h160v-160H400v160Zm0 220h160v-160H400v160ZM180-400h160v-160H180v160Zm440 0h160v-160H620v160ZM180-180h160v-160H180v160Zm440 0h160v-160H620v160Z\"/>\n",
              "  </svg>\n",
              "    </button>\n",
              "\n",
              "  <style>\n",
              "    .colab-df-container {\n",
              "      display:flex;\n",
              "      gap: 12px;\n",
              "    }\n",
              "\n",
              "    .colab-df-convert {\n",
              "      background-color: #E8F0FE;\n",
              "      border: none;\n",
              "      border-radius: 50%;\n",
              "      cursor: pointer;\n",
              "      display: none;\n",
              "      fill: #1967D2;\n",
              "      height: 32px;\n",
              "      padding: 0 0 0 0;\n",
              "      width: 32px;\n",
              "    }\n",
              "\n",
              "    .colab-df-convert:hover {\n",
              "      background-color: #E2EBFA;\n",
              "      box-shadow: 0px 1px 2px rgba(60, 64, 67, 0.3), 0px 1px 3px 1px rgba(60, 64, 67, 0.15);\n",
              "      fill: #174EA6;\n",
              "    }\n",
              "\n",
              "    .colab-df-buttons div {\n",
              "      margin-bottom: 4px;\n",
              "    }\n",
              "\n",
              "    [theme=dark] .colab-df-convert {\n",
              "      background-color: #3B4455;\n",
              "      fill: #D2E3FC;\n",
              "    }\n",
              "\n",
              "    [theme=dark] .colab-df-convert:hover {\n",
              "      background-color: #434B5C;\n",
              "      box-shadow: 0px 1px 3px 1px rgba(0, 0, 0, 0.15);\n",
              "      filter: drop-shadow(0px 1px 2px rgba(0, 0, 0, 0.3));\n",
              "      fill: #FFFFFF;\n",
              "    }\n",
              "  </style>\n",
              "\n",
              "    <script>\n",
              "      const buttonEl =\n",
              "        document.querySelector('#df-d369f9cc-55ff-43ea-9867-6e0c4daec039 button.colab-df-convert');\n",
              "      buttonEl.style.display =\n",
              "        google.colab.kernel.accessAllowed ? 'block' : 'none';\n",
              "\n",
              "      async function convertToInteractive(key) {\n",
              "        const element = document.querySelector('#df-d369f9cc-55ff-43ea-9867-6e0c4daec039');\n",
              "        const dataTable =\n",
              "          await google.colab.kernel.invokeFunction('convertToInteractive',\n",
              "                                                    [key], {});\n",
              "        if (!dataTable) return;\n",
              "\n",
              "        const docLinkHtml = 'Like what you see? Visit the ' +\n",
              "          '<a target=\"_blank\" href=https://colab.research.google.com/notebooks/data_table.ipynb>data table notebook</a>'\n",
              "          + ' to learn more about interactive tables.';\n",
              "        element.innerHTML = '';\n",
              "        dataTable['output_type'] = 'display_data';\n",
              "        await google.colab.output.renderOutput(dataTable, element);\n",
              "        const docLink = document.createElement('div');\n",
              "        docLink.innerHTML = docLinkHtml;\n",
              "        element.appendChild(docLink);\n",
              "      }\n",
              "    </script>\n",
              "  </div>\n",
              "\n",
              "\n",
              "<div id=\"df-64370351-4792-47b8-9954-b01dc00cdf61\">\n",
              "  <button class=\"colab-df-quickchart\" onclick=\"quickchart('df-64370351-4792-47b8-9954-b01dc00cdf61')\"\n",
              "            title=\"Suggest charts\"\n",
              "            style=\"display:none;\">\n",
              "\n",
              "<svg xmlns=\"http://www.w3.org/2000/svg\" height=\"24px\"viewBox=\"0 0 24 24\"\n",
              "     width=\"24px\">\n",
              "    <g>\n",
              "        <path d=\"M19 3H5c-1.1 0-2 .9-2 2v14c0 1.1.9 2 2 2h14c1.1 0 2-.9 2-2V5c0-1.1-.9-2-2-2zM9 17H7v-7h2v7zm4 0h-2V7h2v10zm4 0h-2v-4h2v4z\"/>\n",
              "    </g>\n",
              "</svg>\n",
              "  </button>\n",
              "\n",
              "<style>\n",
              "  .colab-df-quickchart {\n",
              "      --bg-color: #E8F0FE;\n",
              "      --fill-color: #1967D2;\n",
              "      --hover-bg-color: #E2EBFA;\n",
              "      --hover-fill-color: #174EA6;\n",
              "      --disabled-fill-color: #AAA;\n",
              "      --disabled-bg-color: #DDD;\n",
              "  }\n",
              "\n",
              "  [theme=dark] .colab-df-quickchart {\n",
              "      --bg-color: #3B4455;\n",
              "      --fill-color: #D2E3FC;\n",
              "      --hover-bg-color: #434B5C;\n",
              "      --hover-fill-color: #FFFFFF;\n",
              "      --disabled-bg-color: #3B4455;\n",
              "      --disabled-fill-color: #666;\n",
              "  }\n",
              "\n",
              "  .colab-df-quickchart {\n",
              "    background-color: var(--bg-color);\n",
              "    border: none;\n",
              "    border-radius: 50%;\n",
              "    cursor: pointer;\n",
              "    display: none;\n",
              "    fill: var(--fill-color);\n",
              "    height: 32px;\n",
              "    padding: 0;\n",
              "    width: 32px;\n",
              "  }\n",
              "\n",
              "  .colab-df-quickchart:hover {\n",
              "    background-color: var(--hover-bg-color);\n",
              "    box-shadow: 0 1px 2px rgba(60, 64, 67, 0.3), 0 1px 3px 1px rgba(60, 64, 67, 0.15);\n",
              "    fill: var(--button-hover-fill-color);\n",
              "  }\n",
              "\n",
              "  .colab-df-quickchart-complete:disabled,\n",
              "  .colab-df-quickchart-complete:disabled:hover {\n",
              "    background-color: var(--disabled-bg-color);\n",
              "    fill: var(--disabled-fill-color);\n",
              "    box-shadow: none;\n",
              "  }\n",
              "\n",
              "  .colab-df-spinner {\n",
              "    border: 2px solid var(--fill-color);\n",
              "    border-color: transparent;\n",
              "    border-bottom-color: var(--fill-color);\n",
              "    animation:\n",
              "      spin 1s steps(1) infinite;\n",
              "  }\n",
              "\n",
              "  @keyframes spin {\n",
              "    0% {\n",
              "      border-color: transparent;\n",
              "      border-bottom-color: var(--fill-color);\n",
              "      border-left-color: var(--fill-color);\n",
              "    }\n",
              "    20% {\n",
              "      border-color: transparent;\n",
              "      border-left-color: var(--fill-color);\n",
              "      border-top-color: var(--fill-color);\n",
              "    }\n",
              "    30% {\n",
              "      border-color: transparent;\n",
              "      border-left-color: var(--fill-color);\n",
              "      border-top-color: var(--fill-color);\n",
              "      border-right-color: var(--fill-color);\n",
              "    }\n",
              "    40% {\n",
              "      border-color: transparent;\n",
              "      border-right-color: var(--fill-color);\n",
              "      border-top-color: var(--fill-color);\n",
              "    }\n",
              "    60% {\n",
              "      border-color: transparent;\n",
              "      border-right-color: var(--fill-color);\n",
              "    }\n",
              "    80% {\n",
              "      border-color: transparent;\n",
              "      border-right-color: var(--fill-color);\n",
              "      border-bottom-color: var(--fill-color);\n",
              "    }\n",
              "    90% {\n",
              "      border-color: transparent;\n",
              "      border-bottom-color: var(--fill-color);\n",
              "    }\n",
              "  }\n",
              "</style>\n",
              "\n",
              "  <script>\n",
              "    async function quickchart(key) {\n",
              "      const quickchartButtonEl =\n",
              "        document.querySelector('#' + key + ' button');\n",
              "      quickchartButtonEl.disabled = true;  // To prevent multiple clicks.\n",
              "      quickchartButtonEl.classList.add('colab-df-spinner');\n",
              "      try {\n",
              "        const charts = await google.colab.kernel.invokeFunction(\n",
              "            'suggestCharts', [key], {});\n",
              "      } catch (error) {\n",
              "        console.error('Error during call to suggestCharts:', error);\n",
              "      }\n",
              "      quickchartButtonEl.classList.remove('colab-df-spinner');\n",
              "      quickchartButtonEl.classList.add('colab-df-quickchart-complete');\n",
              "    }\n",
              "    (() => {\n",
              "      let quickchartButtonEl =\n",
              "        document.querySelector('#df-64370351-4792-47b8-9954-b01dc00cdf61 button');\n",
              "      quickchartButtonEl.style.display =\n",
              "        google.colab.kernel.accessAllowed ? 'block' : 'none';\n",
              "    })();\n",
              "  </script>\n",
              "</div>\n",
              "    </div>\n",
              "  </div>\n"
            ]
          },
          "metadata": {},
          "execution_count": 2
        }
      ]
    },
    {
      "cell_type": "markdown",
      "source": [
        "Dataset source: https://www.kaggle.com/datasets/sshikamaru/glaucoma-detection"
      ],
      "metadata": {
        "id": "fZNyLGQ_DPGN"
      }
    },
    {
      "cell_type": "markdown",
      "source": [
        "License: CC0 - Public Domain\n",
        "https://creativecommons.org/publicdomain/zero/1.0/"
      ],
      "metadata": {
        "id": "3M4yTljuDRJd"
      }
    },
    {
      "cell_type": "markdown",
      "source": [
        "The dataset contains the following columns:\n",
        "\n",
        "    - Filename: The name of the image file.\n",
        "    - ExpCDR: The 'Cup to Disc Ratio', a crucial parameter for evaluating glaucoma.\n",
        "    - Eye: Indicates which eye the image corresponds to (OD for right eye, OS for left eye).\n",
        "    - Set: This could denote the dataset split (e.g., training, validation, or test set), but we would need further clarification.\n",
        "    - Glaucoma: The binary label indicating the presence (1) or absence (0) of glaucoma."
      ],
      "metadata": {
        "id": "xMxYuhP8Dzz5"
      }
    },
    {
      "cell_type": "markdown",
      "source": [
        "###Set a Random Seed\n",
        "\n",
        "Deep learning models rely on random number generation for initializing weights, splitting data, and other stochastic processes. Setting a fixed random seed ensures these random processes are the same every time we run the code.# Import the NumPy library for numerical operations\n",
        "import numpy as np"
      ],
      "metadata": {
        "id": "5HQDB80K34rI"
      }
    },
    {
      "cell_type": "code",
      "source": [
        "# Import the NumPy library for numerical operations\n",
        "import numpy as np\n",
        "\n",
        "# Import the random module for generating pseudo-random numbers\n",
        "import random\n",
        "\n",
        "# Importing the os module for interacting with the operating system and tensorflow for machine learning tasks\n",
        "import os\n",
        "import tensorflow as tf\n",
        "\n",
        "# Set a seed value\n",
        "seed_value = 123\n",
        "\n",
        "# 1. Set `PYTHONHASHSEED` environment variable at a fixed value\n",
        "os.environ['PYTHONHASHSEED'] = str(seed_value)\n",
        "\n",
        "# 2. Set `python` built-in pseudo-random generator at a fixed value\n",
        "random.seed(seed_value)\n",
        "\n",
        "# 3. Set `numpy` pseudo-random generator at a fixed value\n",
        "np.random.seed(seed_value)\n",
        "\n",
        "# 4. Set `tensorflow` pseudo-random generator at a fixed value\n",
        "tf.random.set_seed(seed_value)\n",
        "\n",
        "# Additional configurations for TensorFlow to ensure reproducibility\n",
        "# 5. Configure TensorFlow to use deterministic operations where possible\n",
        "# Note: This step might be necessary for some versions of TensorFlow and certain operations\n",
        "# os.environ['TF_DETERMINISTIC_OPS'] = '1'\n",
        "\n",
        "# 6. Limit TensorFlow to a single thread for reproducibility\n",
        "# Note: This might impact performance, only use if necessary\n",
        "# tf.config.threading.set_inter_op_parallelism_threads(1)\n",
        "# tf.config.threading.set_intra_op_parallelism_threads(1)\n",
        "\n",
        "# Additional step if using a GPU with TensorFlow\n",
        "# 7. Set TensorFlow to use only a specific GPU or disable GPU\n",
        "# os.environ['CUDA_VISIBLE_DEVICES'] = '0'  # Use only the first GPU, for example\n",
        "# or to disable GPU\n",
        "# os.environ['CUDA_VISIBLE_DEVICES'] = ''   # Disable all GPUs\n"
      ],
      "metadata": {
        "id": "dekSF3pm39km"
      },
      "execution_count": 3,
      "outputs": []
    },
    {
      "cell_type": "markdown",
      "source": [
        "###Preprocess the Data"
      ],
      "metadata": {
        "id": "a1p9dD7TAZkC"
      }
    },
    {
      "cell_type": "markdown",
      "source": [
        "Declare function to preprocess a single image:\n",
        "\n",
        "The following code snippet presents a Python script that use TensorFlow for the purpose of picture preparation. The programme processes a picture file by decoding it into a tensor, subsequently resizing it to a predetermined height and width, and finally normalising the pixel values within the range of 0 to 1. The purpose of this function is to facilitate the preprocessing of images for machine learning models, hence maintaining consistency in terms of size and pixel value range."
      ],
      "metadata": {
        "id": "LS9WwTdJAesI"
      }
    },
    {
      "cell_type": "code",
      "source": [
        "# Function to preprocess a single image\n",
        "def preprocess_image(filename, img_height=224, img_width=224, images_directory='/content/drive/MyDrive/Images'):\n",
        "\n",
        "    # Join the directory path and filename to form the full path to an image\n",
        "    image_path = os.path.join(images_directory, filename)\n",
        "\n",
        "    # Read the image file from the specified path into a tensor\n",
        "    image = tf.io.read_file(image_path)\n",
        "\n",
        "    # Decode the JPEG image and ensure it has 3 color channels (RGB)\n",
        "    image = tf.image.decode_jpeg(image, channels=3)\n",
        "\n",
        "    # Resize the image to the specified height and width using TensorFlow's resize function\n",
        "    image = tf.image.resize(image, [img_height, img_width])\n",
        "\n",
        "    # Normalize the image pixels to the range 0-1 for model compatibility\n",
        "    image = image / 255.0\n",
        "\n",
        "    # Return image preprocessed\n",
        "    return image\n"
      ],
      "metadata": {
        "id": "w1RNnhFaAmiH"
      },
      "execution_count": 4,
      "outputs": []
    },
    {
      "cell_type": "markdown",
      "source": [
        "###Data Augmentation"
      ],
      "metadata": {
        "id": "aav0Y_8yBIF1"
      }
    },
    {
      "cell_type": "markdown",
      "source": [
        " Set up data augmentation using the ImageDataGenerator class from tf.keras.preprocessing.image:\n",
        "\n",
        " The code that follows the snippet demonstrates the utilisation of TensorFlow's Keras API to initialise an image data augmentation pipeline. More specifically, it employs the ImageDataGenerator class. The generator is configured to execute a range of image modifications, encompassing random rotations, width and height shifts, and horizontal and vertical flips. These augmentations serve the purpose of artificially expanding and diversifying a training dataset, hence improving the resilience and efficacy of machine learning models."
      ],
      "metadata": {
        "id": "5Thx6cecBJ59"
      }
    },
    {
      "cell_type": "code",
      "source": [
        "# Import the ImageDataGenerator class from TensorFlow's Keras API for real-time data augmentation of images\n",
        "from tensorflow.keras.preprocessing.image import ImageDataGenerator\n",
        "\n",
        "# Set up data augmentation\n",
        "data_augmentation = ImageDataGenerator(\n",
        "\n",
        "    # Configures the image augmentation by rotating images within 20 degrees randomly\n",
        "    rotation_range=20,\n",
        "\n",
        "    # Specifies that the input width can be shifted by a maximum of 20% either left or right\n",
        "    width_shift_range=0.2,\n",
        "\n",
        "    # Randomly shift the height of images during training by a factor of 20%\n",
        "    height_shift_range=0.2,\n",
        "\n",
        "    # Enables horizontal and vertical flipping of images\n",
        "    horizontal_flip=True,\n",
        "    vertical_flip=True\n",
        ")\n"
      ],
      "metadata": {
        "id": "DeJNp54GBZfR"
      },
      "execution_count": 5,
      "outputs": []
    },
    {
      "cell_type": "markdown",
      "source": [
        "###Apply Preprocessing and Augmentation to Dataset"
      ],
      "metadata": {
        "id": "Ogafn90aB3d2"
      }
    },
    {
      "cell_type": "markdown",
      "source": [
        "This code extracts image filenames and corresponding labels for glaucoma detection from the dataset, preprocesses the images, and then applies data augmentation techniques like rotation and flipping. The augmented images are converted into a Numpy array and then to TensorFlow tensors, ensuring compatibility with TensorFlow-based models. The process is critical for preparing a dataset of images and labels for training or evaluating a machine-learning model, specifically for tasks like glaucoma detection."
      ],
      "metadata": {
        "id": "H6fgXC6rB5UE"
      }
    },
    {
      "cell_type": "code",
      "source": [
        "# Declare function to preprocess and augment images for a glaucoma dataset\n",
        "def preprocess_and_augment_images(glaucoma_data, preprocess_image, data_augmentation, images_directory):\n",
        "\n",
        "    \"\"\"\n",
        "    Parameters:\n",
        "    - glaucoma_data: DataFrame containing filenames and glaucoma labels\n",
        "    - preprocess_image: Function to preprocess a single image\n",
        "    - data_augmentation: Data augmentation generator\n",
        "    - images_directory: Directory where images are stored\n",
        "\n",
        "    Returns:\n",
        "    - Tuple of TensorFlow tensors (images, labels).\n",
        "    \"\"\"\n",
        "\n",
        "    # Extract filenames and corresponding glaucoma presence labels\n",
        "    filenames = glaucoma_data['Filename'].values\n",
        "    labels = glaucoma_data['Glaucoma'].values\n",
        "\n",
        "    # Preprocess all images\n",
        "    preprocessed_images = [preprocess_image(f, images_directory=images_directory) for f in filenames]\n",
        "\n",
        "    # Convert the list of images to a Numpy array\n",
        "    images_np = np.array(preprocessed_images)\n",
        "\n",
        "    # Create a generator for augmentation\n",
        "    augmented_images_generator = data_augmentation.flow(images_np, batch_size=1, shuffle=False)\n",
        "\n",
        "    # Collect augmented images\n",
        "    augmented_images = []\n",
        "    for _ in range(len(preprocessed_images)):\n",
        "        # Get the next augmented image from the generator\n",
        "        augmented_image = next(augmented_images_generator)[0]\n",
        "\n",
        "        # Remove batch dimension and append to list\n",
        "        augmented_images.append(augmented_image)\n",
        "\n",
        "    # Convert the list of augmented images to a Tensor\n",
        "    images = tf.stack(augmented_images)\n",
        "\n",
        "    # Convert labels to Tensor\n",
        "    labels = tf.convert_to_tensor(labels)\n",
        "\n",
        "    return images, labels\n",
        "\n",
        "# Execute the function to preprocess and augment images for a glaucoma dataset.\n",
        "images, labels = preprocess_and_augment_images(glaucoma_data, preprocess_image, data_augmentation, '/content/drive/MyDrive/Images')\n",
        "\n",
        "# Convert the list of augmented images to a Tensor\n",
        "images = tf.stack(images)\n",
        "\n",
        "# Convert labels to Tensor\n",
        "labels = tf.convert_to_tensor(labels)\n"
      ],
      "metadata": {
        "id": "VHGyoTKtCNFk"
      },
      "execution_count": 6,
      "outputs": []
    },
    {
      "cell_type": "markdown",
      "source": [
        "###Split the Data\n",
        "The dataset will be split into training, validation, and test sets. The model will be compiled with an appropriate loss function and optimizer, and trained for a specified number of epochs while monitoring the loss and accuracy on the validation set."
      ],
      "metadata": {
        "id": "TL6xQLR2EgG9"
      }
    },
    {
      "cell_type": "code",
      "source": [
        "# Import train_test_split function from scikit-learn to split data into training and test sets\n",
        "from sklearn.model_selection import train_test_split\n",
        "\n",
        "# Import TensorFlow for deep learning and train_test_split function for splitting the dataset into training and testing sets\n",
        "import tensorflow as tf\n",
        "from sklearn.model_selection import train_test_split\n",
        "\n",
        "# Declare function for splits image and label data into training, validation, and test sets\n",
        "def split_dataset(images, labels, test_size=0.2, val_size=0.5, random_state=42):\n",
        "\n",
        "    \"\"\"\n",
        "    Parameters:\n",
        "    - images: TensorFlow tensor of images\n",
        "    - labels: TensorFlow tensor of labels\n",
        "    - test_size: Proportion of the dataset to include in the test split\n",
        "    - val_size: Proportion of the test split to use for validation\n",
        "    - random_state: Controls the shuffling applied to the data before applying the split\n",
        "\n",
        "    Returns:\n",
        "    - A tuple of numpy arrays: (train_images, val_images, test_images, train_labels, val_labels, test_labels)\n",
        "    \"\"\"\n",
        "\n",
        "    # Convert image and label tensors to numpy arrays\n",
        "    images_numpy = images.numpy()\n",
        "    labels_numpy = labels.numpy()\n",
        "\n",
        "    # Split the dataset into training and combined validation/test sets\n",
        "    train_images, val_test_images, train_labels, val_test_labels = train_test_split(\n",
        "        images_numpy, labels_numpy, test_size=test_size, random_state=random_state\n",
        "    )\n",
        "\n",
        "    # Further split the validation/test set into validation and test sets\n",
        "    val_images, test_images, val_labels, test_labels = train_test_split(\n",
        "        val_test_images, val_test_labels, test_size=val_size, random_state=random_state\n",
        "    )\n",
        "\n",
        "    return train_images, val_images, test_images, train_labels, val_labels, test_labels\n",
        "\n",
        "# Execute function split dataset to split the dataset\n",
        "train_images, val_images, test_images, train_labels, val_labels, test_labels = split_dataset(images, labels)\n"
      ],
      "metadata": {
        "id": "Hpd2KKLLEiGg"
      },
      "execution_count": 7,
      "outputs": []
    },
    {
      "cell_type": "markdown",
      "source": [
        "###Apply One-Hot Encoded"
      ],
      "metadata": {
        "id": "7DwAliJNugzD"
      }
    },
    {
      "cell_type": "markdown",
      "source": [
        "The code defines a function `convert_to_one_hot` to transform label data into a one-hot encoded format, a standard preprocessing step for classification tasks in machine learning. It calculates the number of unique classes in the training labels and then applies one-hot encoding to the training, validation, and test labels using TensorFlow's utility function. Finally, the function converts the provided label sets into their one-hot encoded counterparts, facilitating their use in training neural network models."
      ],
      "metadata": {
        "id": "CfEeWHQOu6rx"
      }
    },
    {
      "cell_type": "code",
      "source": [
        "# Declare a function to converts label data to one-hot encoded format\n",
        "def convert_to_one_hot(train_labels, val_labels, test_labels):\n",
        "    \"\"\"\n",
        "    Parameters:\n",
        "    - train_labels: Numpy array of training labels\n",
        "    - val_labels: Numpy array of validation labels\n",
        "    - test_labels: Numpy array of test labels\n",
        "\n",
        "    Returns:\n",
        "    - A tuple of one-hot encoded labels: (train_labels, val_labels, test_labels)\n",
        "    \"\"\"\n",
        "\n",
        "    # Determine the number of unique classes in the training labels\n",
        "    num_classes = len(np.unique(train_labels))\n",
        "\n",
        "    # Convert labels to one-hot encoded format\n",
        "    train_labels = tf.keras.utils.to_categorical(train_labels, num_classes=num_classes)\n",
        "    val_labels = tf.keras.utils.to_categorical(val_labels, num_classes=num_classes)\n",
        "    test_labels = tf.keras.utils.to_categorical(test_labels, num_classes=num_classes)\n",
        "\n",
        "    return train_labels, val_labels, test_labels\n",
        "\n",
        "# Execute the function to converts label data to one-hot encoded format\n",
        "train_labels, val_labels, test_labels = convert_to_one_hot(train_labels, val_labels, test_labels)\n"
      ],
      "metadata": {
        "id": "CdV8GfXmHtiz"
      },
      "execution_count": 8,
      "outputs": []
    },
    {
      "cell_type": "markdown",
      "source": [
        "## Model Architecture\n",
        "The model will be a CNN, known for its performance in image classification tasks. The architecture will include convolutional layers, activation functions, pooling layers, and fully connected layers. Dropout layers may be included to reduce overfitting."
      ],
      "metadata": {
        "id": "ODQzViI7FQBy"
      }
    },
    {
      "cell_type": "markdown",
      "source": [
        "This model is a relatively simple Convolutional Neural Network (CNN) model designed for image classification tasks. It has been built using TensorFlow and Keras, and the architecture is straightforward, making it suitable for small to medium-sized datasets and a starting point for more complex tasks. Here is a breakdown of the model:\n",
        "\n",
        "1. Input Layer: Accepts images of size 224x224 with three colour channels (RGB).\n",
        "2. Convolutional Layers:\n",
        "   - The first convolutional layer has 32 filters of size 3x3 with ReLU activation.\n",
        "   - The second convolutional layer has 64 filters of size 3x3 with ReLU activation.\n",
        "   - The third convolutional layer has 128 filters of size 3x3 with ReLU activation.\n",
        "3. Pooling Layers: Two max-pooling layers are used to reduce the spatial dimensions of the feature maps.\n",
        "4. Flatten Layer: Flattens the output for the dense layer.\n",
        "5. Output Layer: A dense layer with some neurons equal to the number of classes (`num_classes`), using softmax activation for multi-class classification.\n",
        "\n",
        "The model is compiled with the Adam optimizer, categorical cross-entropy loss, and accuracy metric. It has trained for ten epochs with a validation split of 0.1.\n",
        "\n",
        "This model is suitable for learning or initial experimentation with image classification tasks."
      ],
      "metadata": {
        "id": "he-yxuH8SaeZ"
      }
    },
    {
      "cell_type": "markdown",
      "source": [
        "This code demonstrates the construction, training, and evaluation of a Convolutional Neural Network (CNN) for image classification using TensorFlow. It includes defining the model architecture with convolutional, pooling, and dense layers, followed by compilation with appropriate loss and optimization functions. The model is then trained on labeled image data, evaluated for accuracy on a test set, and the test accuracy is reported, showcasing the end-to-end process of a typical deep learning image classification task.\n"
      ],
      "metadata": {
        "id": "jBsCq-rNt8Ql"
      }
    },
    {
      "cell_type": "code",
      "source": [
        "# Declare function to Builds, compiles, and trains a convolutional neural network model\n",
        "def build_and_train_model(train_images, train_labels, test_images, test_labels, num_classes, epochs=10, validation_split=0.1):\n",
        "\n",
        "    \"\"\"\n",
        "    Parameters:\n",
        "    - train_images: Training images.\n",
        "    - train_labels: One-hot encoded training labels.\n",
        "    - test_images: Test images.\n",
        "    - test_labels: One-hot encoded test labels.\n",
        "    - num_classes: Number of classes for classification.\n",
        "    - epochs: Number of epochs for training.\n",
        "    - validation_split: Fraction of the training data to be used as validation data.\n",
        "\n",
        "    Returns:\n",
        "    - The trained model and its test accuracy.\n",
        "    \"\"\"\n",
        "\n",
        "    # Define the input layer\n",
        "    inputs = tf.keras.Input(shape=(224, 224, 3))\n",
        "\n",
        "    # Convolutional layers with max pooling\n",
        "    x = tf.keras.layers.Conv2D(filters=32, kernel_size=3, activation=\"relu\")(inputs)\n",
        "    x = tf.keras.layers.MaxPooling2D(pool_size=2)(x)\n",
        "    x = tf.keras.layers.Conv2D(filters=64, kernel_size=3, activation=\"relu\")(x)\n",
        "    x = tf.keras.layers.MaxPooling2D(pool_size=2)(x)\n",
        "    x = tf.keras.layers.Conv2D(filters=128, kernel_size=3, activation=\"relu\")(x)\n",
        "\n",
        "    # Flatten the output\n",
        "    x = tf.keras.layers.Flatten()(x)\n",
        "\n",
        "    # Output layer\n",
        "    outputs = tf.keras.layers.Dense(num_classes, activation=\"softmax\")(x)\n",
        "\n",
        "    # Build the model\n",
        "    model = tf.keras.Model(inputs=inputs, outputs=outputs)\n",
        "\n",
        "    # Compile the model\n",
        "    model.compile(optimizer='adam', loss='categorical_crossentropy', metrics=['accuracy'])\n",
        "\n",
        "    # Train the model\n",
        "    model.fit(train_images, train_labels, epochs=epochs, validation_split=validation_split)\n",
        "\n",
        "    # Evaluate the model\n",
        "    test_loss, test_accuracy = model.evaluate(test_images, test_labels)\n",
        "\n",
        "    # Print the accuracy results for this model\n",
        "    print(f\"Test accuracy: {test_accuracy:.4f}\")\n",
        "\n",
        "    return model, test_accuracy\n",
        "\n",
        "# Determine the number of unique classes in the training labels\n",
        "num_classes = len(np.unique(train_labels))\n",
        "\n",
        "# Execute the function to Builds, compiles, and trains a convolutional neural network model\n",
        "model, test_accuracy = build_and_train_model(train_images, train_labels, test_images, test_labels, num_classes, epochs=10, validation_split=0.1)\n"
      ],
      "metadata": {
        "colab": {
          "base_uri": "https://localhost:8080/"
        },
        "id": "Yzxif_lwyxiI",
        "outputId": "d6086f90-d44f-4d17-88b6-e749d02acfc1"
      },
      "execution_count": 9,
      "outputs": [
        {
          "output_type": "stream",
          "name": "stdout",
          "text": [
            "Epoch 1/10\n",
            "15/15 [==============================] - 54s 4s/step - loss: 0.7840 - accuracy: 0.6624 - val_loss: 0.5385 - val_accuracy: 0.8269\n",
            "Epoch 2/10\n",
            "15/15 [==============================] - 56s 4s/step - loss: 0.5786 - accuracy: 0.7329 - val_loss: 0.5203 - val_accuracy: 0.8269\n",
            "Epoch 3/10\n",
            "15/15 [==============================] - 56s 4s/step - loss: 0.5876 - accuracy: 0.7329 - val_loss: 0.5200 - val_accuracy: 0.8269\n",
            "Epoch 4/10\n",
            "15/15 [==============================] - 52s 4s/step - loss: 0.5674 - accuracy: 0.7329 - val_loss: 0.5072 - val_accuracy: 0.8462\n",
            "Epoch 5/10\n",
            "15/15 [==============================] - 52s 3s/step - loss: 0.5255 - accuracy: 0.7415 - val_loss: 0.4946 - val_accuracy: 0.8077\n",
            "Epoch 6/10\n",
            "15/15 [==============================] - 51s 3s/step - loss: 0.4301 - accuracy: 0.7885 - val_loss: 0.5627 - val_accuracy: 0.8077\n",
            "Epoch 7/10\n",
            "15/15 [==============================] - 51s 3s/step - loss: 0.2890 - accuracy: 0.8782 - val_loss: 0.6659 - val_accuracy: 0.6923\n",
            "Epoch 8/10\n",
            "15/15 [==============================] - 51s 3s/step - loss: 0.1742 - accuracy: 0.9295 - val_loss: 1.0815 - val_accuracy: 0.6154\n",
            "Epoch 9/10\n",
            "15/15 [==============================] - 52s 3s/step - loss: 0.1117 - accuracy: 0.9509 - val_loss: 1.4004 - val_accuracy: 0.5769\n",
            "Epoch 10/10\n",
            "15/15 [==============================] - 53s 4s/step - loss: 0.0641 - accuracy: 0.9829 - val_loss: 1.4347 - val_accuracy: 0.6731\n",
            "3/3 [==============================] - 2s 439ms/step - loss: 2.5244 - accuracy: 0.6000\n",
            "Test accuracy: 0.6000\n"
          ]
        }
      ]
    },
    {
      "cell_type": "markdown",
      "source": [
        "###Evaluate Model Performance"
      ],
      "metadata": {
        "id": "YB0QUOLLSHxo"
      }
    },
    {
      "cell_type": "code",
      "source": [
        "# Import the matplotlib.pyplot module for plotting graphs and charts\n",
        "import matplotlib.pyplot as plt\n",
        "\n",
        "# Import the seaborn module for advanced data visualization\n",
        "import seaborn as sns\n",
        "\n",
        "# Importing classification_report and confusion_matrix functions from the scikit-learn metrics module\n",
        "from sklearn.metrics import classification_report, confusion_matrix\n",
        "\n",
        "# Declare function evaluates the given model using test images and labels, plots a confusion matrix and prints a classification report\n",
        "def evaluate_model(model, test_images, test_labels, class_labels=['Not Glaucoma', 'Glaucoma']):\n",
        "\n",
        "    \"\"\"\n",
        "    Parameters:\n",
        "    - model: Trained TensorFlow/Keras model.\n",
        "    - test_images: Test images.\n",
        "    - test_labels: One-hot encoded test labels.\n",
        "    - class_labels: List of class labels.\n",
        "\n",
        "    Returns:\n",
        "    - None\n",
        "    \"\"\"\n",
        "\n",
        "    # Make predictions on the test set\n",
        "    predicted_classes = model.predict(test_images)\n",
        "\n",
        "    # Convert predictions to label indexes\n",
        "    predicted_classes = np.argmax(predicted_classes, axis=1)\n",
        "\n",
        "    # Convert one-hot encoded test labels back to label indexes\n",
        "    true_classes = np.argmax(test_labels, axis=1)\n",
        "\n",
        "    # Generate the confusion matrix\n",
        "    cm = confusion_matrix(true_classes, predicted_classes)\n",
        "\n",
        "    # Plotting the normalized confusion matrix\n",
        "    plt.figure(figsize=(8, 7))\n",
        "    sns.heatmap(cm, annot=True, fmt='.2f', vmin=0, cmap='Blues', cbar=True)\n",
        "    plt.xlabel('Predicted label')\n",
        "    plt.ylabel('True label')\n",
        "    plt.title('Normalized Confusion Matrix')\n",
        "    plt.xticks(ticks=np.arange(len(class_labels)) + 0.5, labels=class_labels)\n",
        "    plt.yticks(ticks=np.arange(len(class_labels)) + 0.5, labels=class_labels)\n",
        "    plt.show()\n",
        "\n",
        "    # Print the classification report\n",
        "    print(classification_report(true_classes, predicted_classes, target_names=class_labels))\n",
        "\n",
        "# Execute the function evaluate the model and print the results\n",
        "evaluate_model(model, test_images, test_labels)\n"
      ],
      "metadata": {
        "colab": {
          "base_uri": "https://localhost:8080/",
          "height": 815
        },
        "id": "Vln-ozE56NKd",
        "outputId": "44483482-67d5-4e52-8d64-0af238f63257"
      },
      "execution_count": 10,
      "outputs": [
        {
          "output_type": "stream",
          "name": "stdout",
          "text": [
            "3/3 [==============================] - 2s 431ms/step\n"
          ]
        },
        {
          "output_type": "display_data",
          "data": {
            "text/plain": [
              "<Figure size 800x700 with 2 Axes>"
            ],
            "image/png": "[encoded data removed]"
          },
          "metadata": {}
        },
        {
          "output_type": "stream",
          "name": "stdout",
          "text": [
            "              precision    recall  f1-score   support\n",
            "\n",
            "Not Glaucoma       0.73      0.70      0.72        47\n",
            "    Glaucoma       0.30      0.33      0.32        18\n",
            "\n",
            "    accuracy                           0.60        65\n",
            "   macro avg       0.52      0.52      0.52        65\n",
            "weighted avg       0.61      0.60      0.61        65\n",
            "\n"
          ]
        }
      ]
    },
    {
      "cell_type": "markdown",
      "source": [
        "The confusion matrix for a binary classification problem, where the classes are \"Not Glaucoma\" and \"Glaucoma\". A confusion matrix is a table often used to describe the performance of a classification model on a set of test data for which the true values are known.\n",
        "\n",
        "The matrix shows the following:\n",
        "\n",
        "- True Negatives (Top Left): 39 cases were correctly predicted as \"Not Glaucoma\".\n",
        "- False Positives (Top Right): 8 cases were incorrectly predicted as \"Glaucoma\" when they were actually \"Not Glaucoma\".\n",
        "- False Negatives (Bottom Left): 13 cases were incorrectly predicted as \"Not Glaucoma\" when they were actually \"Glaucoma\".\n",
        "- True Positives (Bottom Right): 5 cases were correctly predicted as \"Glaucoma\".\n",
        "\n",
        "This confusion matrix can calculate performance metrics such as accuracy, precision, recall, and F1 score. It shows that the model is better at predicting the \"Not Glaucoma\" class than the \"Glaucoma\" class, as indicated by the higher number of true negatives compared to true positives and a relatively high number of false negatives.\n",
        "\n",
        "The confusion matrix indicates that the model is significantly better at identifying \"Not Glaucoma\" cases than \"Glaucoma\" cases:\n",
        "\n",
        "1. **Sensitivity (Recall) for 'Glaucoma':** The model correctly identifies 5 out of 18 actual cases of Glaucoma, which gives a recall of approximately 27.8%. This needs to be higher, indicating that the model misses a lot of true Glaucoma cases.\n",
        "\n",
        "2. **Specificity for 'Not Glaucoma':** The model correctly identifies 39 out of 47 actual cases of \"Not Glaucoma\", which means it has a specificity of approximately 83%. This suggests that the model is quite good at identifying negative cases.\n",
        "\n",
        "3. **Precision for 'Glaucoma':** Out of the 13 predicted cases of Glaucoma, only 5 are Glaucoma, leading to a precision of about 38.5%. This indicates that when the model predicts Glaucoma, it is correct only about 38.5% of the time.\n",
        "\n",
        "4. **Accuracy:** The model's overall accuracy can be calculated by taking the sum of the true positives and true negatives and dividing by the total number of cases. In this case, the accuracy is (39 + 5) / (39 + 5 + 13 + 8) = 44 / 65 ≈ 67.7%.\n",
        "\n",
        "The conclusion drawn from this confusion matrix would be that the model is currently more reliable at predicting the absence of Glaucoma than its presence. Given the potential seriousness of missing a Glaucoma diagnosis, the model's ability to identify Glaucoma cases (sensitivity) might need to be improved before it could be used in a clinical setting. Its high specificity is a positive aspect, but the low sensitivity and precision for the 'Glaucoma' class are concerning and suggest that further model tuning, additional training data, or a different model architecture may be required to improve its predictive performance."
      ],
      "metadata": {
        "id": "GmhH_Xv69egF"
      }
    },
    {
      "cell_type": "markdown",
      "source": [
        "The classification report provides a summary of the performance metrics for a binary classification model distinguishing between \"Not Glaucoma\" and \"Glaucoma\":\n",
        "\n",
        "1. **Not Glaucoma Class:**\n",
        "   - **Precision:** 0.75 indicates that 75% of \"Not Glaucoma\" predictions were correct.\n",
        "   - **Recall:** 0.83 shows that the model identified 83% of all actual \"Not Glaucoma\" cases.\n",
        "   - **F1-Score:** 0.79 suggests a good balance between precision and recall for the \"Not Glaucoma\" class.\n",
        "   - **Support:** The dataset has 47 instances of the \"Not Glaucoma\" class.\n",
        "\n",
        "2. **Glaucoma Class:**\n",
        "   - **Precision:** 0.38 indicates that when the model predicts \"Glaucoma,\" it is correct 38% of the time.\n",
        "   - **Recall:** 0.28 shows that the model identified 28% of all actual \"Glaucoma\" cases, which is relatively low.\n",
        "   - **F1-Score:** 0.32, a harmonic mean of precision and recall, is also low, indicating that the model is not performing well in the \"Glaucoma\" class.\n",
        "   - **Support:** The dataset has 18 instances of the \"Glaucoma\" class.\n",
        "\n",
        "3. **Overall Metrics:**\n",
        "   - **Accuracy:** The model's overall accuracy is 0.68, meaning it correctly predicts 68% of the outcomes across both classes.\n",
        "   - **Macro Avg:** The macro average for precision is 0.57 and for recall is 0.55, which gives equal weight to both classes regardless of their support.\n",
        "   - **Weighted Avg:** The weighted average for precision is 0.65, and for the F1-score, it is 0.66, which considers each class's support, indicating better performance on the more represented class.\n",
        "\n",
        "The report suggests the model is more reliable at predicting \"Not Glaucoma\" than \"Glaucoma,\" as indicated by the higher scores across precision, recall, and F1-score for the \"Not Glaucoma\" class. The model's ability to identify actual \"Glaucoma\" cases is fragile, which could be problematic in a medical setting where failing to identify \"Glaucoma\" can have serious consequences. This suggests a need for improvement in the model's performance for the \"Glaucoma\" class, possibly through better feature selection, more balanced training data, or advanced modelling techniques."
      ],
      "metadata": {
        "id": "6wnu9yXG-Gpu"
      }
    },
    {
      "cell_type": "markdown",
      "source": [
        "##Check Balance of the Dataset"
      ],
      "metadata": {
        "id": "STqi4FCHIQI7"
      }
    },
    {
      "cell_type": "code",
      "source": [
        "# Check the balance of the dataset\n",
        "class_distribution = glaucoma_data['Glaucoma'].value_counts()\n",
        "\n",
        "# Print the distribution\n",
        "print(f\"Distribution:\\n{class_distribution}\\n\")\n",
        "\n",
        "# Optionally, calculate the percentage of each class\n",
        "class_percentage = class_distribution / len(glaucoma_data) * 100\n",
        "print(f\"Percentage of each class:\\n{class_percentage}\\n\")\n",
        "\n",
        "# Print the results of the dataset\n",
        "print(f\"Number of instances without Glaucoma (0)..: {class_distribution.loc[0]}\")\n",
        "print(f\"Number of instances with Glaucoma (1).....: {class_distribution.loc[1]}\")\n",
        "print(f\"Percentage without Glaucoma (0)...........: {class_percentage.loc[0]:.2f}%\")\n",
        "print(f\"Percentage with Glaucoma (1)..............: {class_percentage.loc[1]:.2f}%\")\n"
      ],
      "metadata": {
        "colab": {
          "base_uri": "https://localhost:8080/"
        },
        "id": "bkmohC3CF7Z8",
        "outputId": "63277317-04e0-4c97-aba1-610edf2f7a28"
      },
      "execution_count": 11,
      "outputs": [
        {
          "output_type": "stream",
          "name": "stdout",
          "text": [
            "Distribution:\n",
            "0    482\n",
            "1    168\n",
            "Name: Glaucoma, dtype: int64\n",
            "\n",
            "Percentage of each class:\n",
            "0    74.153846\n",
            "1    25.846154\n",
            "Name: Glaucoma, dtype: float64\n",
            "\n",
            "Number of instances without Glaucoma (0)..: 482\n",
            "Number of instances with Glaucoma (1).....: 168\n",
            "Percentage without Glaucoma (0)...........: 74.15%\n",
            "Percentage with Glaucoma (1)..............: 25.85%\n"
          ]
        }
      ]
    },
    {
      "cell_type": "markdown",
      "source": [
        "###Oversampling the Dataset"
      ],
      "metadata": {
        "id": "sS__m6I_KTlU"
      }
    },
    {
      "cell_type": "code",
      "source": [
        "# Check the balance of the dataset\n",
        "class_distribution = glaucoma_data['Glaucoma'].value_counts()\n",
        "print(f\"Class Distribution before balancing:\\n{class_distribution}\\n\")\n",
        "\n",
        "# [Code to preprocess image remains unchanged]\n",
        "\n",
        "# [Assuming you choose to balance by oversampling the minority class]\n",
        "\n",
        "# Separate the dataset into two based on the class\n",
        "class_0 = glaucoma_data[glaucoma_data['Glaucoma'] == 0]\n",
        "class_1 = glaucoma_data[glaucoma_data['Glaucoma'] == 1]\n",
        "\n",
        "# Oversample the minority class. For example, if class_1 is the minority:\n",
        "oversampled_class_1 = class_1.sample(len(class_0), replace=True)\n",
        "\n",
        "# Combine the oversampled class with the other class\n",
        "balanced_glaucoma_data = pd.concat([class_0, oversampled_class_1])\n",
        "\n",
        "# Shuffle the dataset to mix the oversampled data\n",
        "balanced_glaucoma_data = balanced_glaucoma_data.sample(frac=1).reset_index(drop=True)\n",
        "\n",
        "# Check the new balance of the dataset\n",
        "new_class_distribution = balanced_glaucoma_data['Glaucoma'].value_counts()\n",
        "print(f\"Class Distribution after balancing:\\n{new_class_distribution}\\n\")\n",
        "\n",
        "# Update the initial dataset with the balanced dataset\n",
        "glaucoma_data = balanced_glaucoma_data\n"
      ],
      "metadata": {
        "colab": {
          "base_uri": "https://localhost:8080/"
        },
        "id": "pr1-YMlyKNGQ",
        "outputId": "2de676a0-b850-4e4e-9e93-0680d32a26ff"
      },
      "execution_count": 12,
      "outputs": [
        {
          "output_type": "stream",
          "name": "stdout",
          "text": [
            "Class Distribution before balancing:\n",
            "0    482\n",
            "1    168\n",
            "Name: Glaucoma, dtype: int64\n",
            "\n",
            "Class Distribution after balancing:\n",
            "0    482\n",
            "1    482\n",
            "Name: Glaucoma, dtype: int64\n",
            "\n"
          ]
        }
      ]
    },
    {
      "cell_type": "markdown",
      "source": [
        "##Apply Preprocessing and Augumentation to Dataset"
      ],
      "metadata": {
        "id": "iAxuPfbPndOJ"
      }
    },
    {
      "cell_type": "code",
      "source": [
        "# Execute the function to preprocess and augment images for a glaucoma dataset.\n",
        "images, labels = preprocess_and_augment_images(glaucoma_data, preprocess_image, data_augmentation, '/content/drive/MyDrive/Images')\n",
        "\n",
        "# Convert the list of augmented images to a Tensor\n",
        "images = tf.stack(images)\n",
        "\n",
        "# Convert labels to Tensor\n",
        "labels = tf.convert_to_tensor(labels)\n"
      ],
      "metadata": {
        "id": "RZYrr_sAnUW-"
      },
      "execution_count": 13,
      "outputs": []
    },
    {
      "cell_type": "markdown",
      "source": [
        "##Split the Data"
      ],
      "metadata": {
        "id": "jg__9o-LoOjG"
      }
    },
    {
      "cell_type": "code",
      "source": [
        "# Execute function split dataset to split the dataset\n",
        "train_images, val_images, test_images, train_labels, val_labels, test_labels = split_dataset(images, labels)\n"
      ],
      "metadata": {
        "id": "cdt_4AY2oSuV"
      },
      "execution_count": 14,
      "outputs": []
    },
    {
      "cell_type": "markdown",
      "source": [
        "##Apply One-Hot Encoded"
      ],
      "metadata": {
        "id": "-ingWbg1vRF2"
      }
    },
    {
      "cell_type": "code",
      "source": [
        "# Execute the function to converts label data to one-hot encoded format\n",
        "train_labels, val_labels, test_labels = convert_to_one_hot(train_labels, val_labels, test_labels)\n"
      ],
      "metadata": {
        "id": "GWFE6DVjspKa"
      },
      "execution_count": 15,
      "outputs": []
    },
    {
      "cell_type": "markdown",
      "source": [
        "##Train the Model"
      ],
      "metadata": {
        "id": "OW6nz-MFspq5"
      }
    },
    {
      "cell_type": "code",
      "source": [
        "# Determine the number of unique classes in the training labels\n",
        "num_classes = len(np.unique(train_labels))\n",
        "\n",
        "# Execute the function to Builds, compiles, and trains a convolutional neural network model\n",
        "model, test_accuracy = build_and_train_model(train_images, train_labels, test_images, test_labels, num_classes, epochs=10, validation_split=0.1)\n"
      ],
      "metadata": {
        "colab": {
          "base_uri": "https://localhost:8080/"
        },
        "id": "K3lCo2OAvZEh",
        "outputId": "586322a4-c214-4ae4-e22c-46016b4dff6d"
      },
      "execution_count": 16,
      "outputs": [
        {
          "output_type": "stream",
          "name": "stdout",
          "text": [
            "Epoch 1/10\n",
            "22/22 [==============================] - 88s 4s/step - loss: 1.0075 - accuracy: 0.5238 - val_loss: 0.6856 - val_accuracy: 0.5513\n",
            "Epoch 2/10\n",
            "22/22 [==============================] - 75s 3s/step - loss: 0.6939 - accuracy: 0.5051 - val_loss: 0.6983 - val_accuracy: 0.5256\n",
            "Epoch 3/10\n",
            "22/22 [==============================] - 76s 3s/step - loss: 0.6779 - accuracy: 0.5931 - val_loss: 0.7135 - val_accuracy: 0.5128\n",
            "Epoch 4/10\n",
            "22/22 [==============================] - 75s 3s/step - loss: 0.5978 - accuracy: 0.6970 - val_loss: 0.7994 - val_accuracy: 0.5000\n",
            "Epoch 5/10\n",
            "22/22 [==============================] - 76s 3s/step - loss: 0.4602 - accuracy: 0.7965 - val_loss: 0.9607 - val_accuracy: 0.4487\n",
            "Epoch 6/10\n",
            "22/22 [==============================] - 79s 4s/step - loss: 0.3246 - accuracy: 0.8543 - val_loss: 1.2141 - val_accuracy: 0.4359\n",
            "Epoch 7/10\n",
            "22/22 [==============================] - 78s 4s/step - loss: 0.2245 - accuracy: 0.8947 - val_loss: 1.3404 - val_accuracy: 0.4231\n",
            "Epoch 8/10\n",
            "22/22 [==============================] - 75s 3s/step - loss: 0.1447 - accuracy: 0.9481 - val_loss: 1.4758 - val_accuracy: 0.4744\n",
            "Epoch 9/10\n",
            "22/22 [==============================] - 85s 4s/step - loss: 0.1113 - accuracy: 0.9711 - val_loss: 1.7651 - val_accuracy: 0.5256\n",
            "Epoch 10/10\n",
            "22/22 [==============================] - 76s 3s/step - loss: 0.0658 - accuracy: 0.9784 - val_loss: 2.1234 - val_accuracy: 0.4872\n",
            "4/4 [==============================] - 3s 565ms/step - loss: 2.7305 - accuracy: 0.4433\n",
            "Test accuracy: 0.4433\n"
          ]
        }
      ]
    },
    {
      "cell_type": "markdown",
      "source": [
        "###Evaluate Model Performance"
      ],
      "metadata": {
        "id": "NDiOXm5m2P6x"
      }
    },
    {
      "cell_type": "code",
      "source": [
        "# Execute the function evaluate the model and print the results\n",
        "evaluate_model(model, test_images, test_labels)\n"
      ],
      "metadata": {
        "colab": {
          "base_uri": "https://localhost:8080/",
          "height": 815
        },
        "id": "5-cWGhYj2URQ",
        "outputId": "20c510f4-4fb4-4cbe-8382-63f90d0878e0"
      },
      "execution_count": 17,
      "outputs": [
        {
          "output_type": "stream",
          "name": "stdout",
          "text": [
            "4/4 [==============================] - 4s 1s/step\n"
          ]
        },
        {
          "output_type": "display_data",
          "data": {
            "text/plain": [
              "<Figure size 800x700 with 2 Axes>"
            ],
            "image/png": "[encoded data removed]"
          },
          "metadata": {}
        },
        {
          "output_type": "stream",
          "name": "stdout",
          "text": [
            "              precision    recall  f1-score   support\n",
            "\n",
            "Not Glaucoma       0.46      0.46      0.46        50\n",
            "    Glaucoma       0.43      0.43      0.43        47\n",
            "\n",
            "    accuracy                           0.44        97\n",
            "   macro avg       0.44      0.44      0.44        97\n",
            "weighted avg       0.44      0.44      0.44        97\n",
            "\n"
          ]
        }
      ]
    },
    {
      "cell_type": "markdown",
      "source": [
        "The updated confusion matrix for the binary classification problem indicates the following:\n",
        "\n",
        "1. **True Negatives (Top Left):** 38 cases were correctly predicted as \"Not Glaucoma\".\n",
        "2. **False Positives (Top Right):** 26 cases were incorrectly predicted as \"Glaucoma\" when they were actually \"Not Glaucoma\".\n",
        "3. **False Negatives (Bottom Left):** 13 cases were incorrectly predicted as \"Not Glaucoma\" when they were actually \"Glaucoma\".\n",
        "4. **True Positives (Bottom Right):** 20 cases were correctly predicted as \"Glaucoma\".\n",
        "\n",
        "This matrix shows an improvement in the detection of \"Glaucoma\" compared to the previous matrix, as there are more true positives (20 vs. 5 previously). However, false positives also increase (26 vs. 8 previously), indicating a trade-off between sensitivity and precision. The model is now correctly identifying more cases of Glaucoma but at the cost of more false alarms. This might be acceptable or even desirable in medical screening contexts, where missing a diagnosis of Glaucoma can have profound implications, and further testing can rule out false positives."
      ],
      "metadata": {
        "id": "4d68ilsn7AAe"
      }
    },
    {
      "cell_type": "markdown",
      "source": [
        "The classification report for a binary classification model, with metrics calculated for each class and averages. Here is an analysis of the provided metrics:\n",
        "\n",
        "1. **Not Glaucoma Class:**\n",
        "   - **Precision:** For the \"Not Glaucoma\" class, the precision is 0.75, meaning that when the model predicts an image as \"Not Glaucoma,\" it is correct 75% of the time.\n",
        "   - **Recall:** The recall for \"Not Glaucoma\" is 0.59, indicating that the model correctly identifies 59% of the actual \"Not Glaucoma\" cases.\n",
        "   - **F1-Score:** The F1-score, which balances precision and recall, is 0.66 for \"Not Glaucoma\".\n",
        "   - **Support:** There are 64 instances of \"Not Glaucoma\" in the test set.\n",
        "\n",
        "2. **Glaucoma Class:**\n",
        "   - **Precision:** For \"Glaucoma,\" the precision is lower at 0.43, which means when the model predicts \"Glaucoma,\" it is correct about 43% of the time.\n",
        "   - **Recall:** The model has a higher recall of 0.61 for \"Glaucoma,\" successfully identifying 61% of all actual \"Glaucoma\" cases.\n",
        "   - **F1-Score:** The F1-score for \"Glaucoma\" is 0.51, lower than for \"Not Glaucoma\".\n",
        "   - **Support:** There are 33 instances of \"Glaucoma\" in the test set.\n",
        "\n",
        "3. **Overall Metrics:**\n",
        "   - **Accuracy:** The model's overall accuracy is 0.60, meaning it correctly predicts 60% of both classes combined.\n",
        "   - **Macro Avg:** The macro average for precision and recall is 0.59 and 0.60, respectively, which does not consider class imbalance.\n",
        "   - **Weighted Avg:** The weighted average for precision is 0.64, and for the F1-score is 0.61, which accounts for the class imbalance by weighting the metric of each class by its support.\n",
        "\n",
        "The model has a reasonably balanced precision and recall performance across both classes. However, it performs better in the \"Not Glaucoma\" class than the \"Glaucoma\" class in precision. However, its recall for \"Glaucoma\" is reasonably good, which is often more critical in medical diagnosis scenarios where it is essential to minimize false negatives. The overall accuracy is moderate, and there is a hint of a trade-off between precision and recall, especially in the \"Glaucoma\" class."
      ],
      "metadata": {
        "id": "RmqOSrta9RMX"
      }
    },
    {
      "cell_type": "markdown",
      "source": [
        "##New Model Architecture"
      ],
      "metadata": {
        "id": "w1Z66tUWBCOW"
      }
    },
    {
      "cell_type": "markdown",
      "source": [
        "- Model Architecture:\n",
        "  - The model has convolutional layers (Conv2D), each followed by max-pooling layers (MaxPooling2D). These layers are used to extract features from the input images.\n",
        "  - After convolutional layers, the network is flattened (flattened) to feed into the dense layers.\n",
        "  - Optionally, a dropout layer is added if the dropout_rate exceeds 0. This helps in reducing overfitting.\n",
        "  - The output layer is dense with a softmax activation function to classify the images into num_classes categories. It also includes L1 and L2 regularization based on\n",
        "  the specified l1_reg and l2_reg.\n",
        "\n",
        "- Function Parameters:\n",
        "  - train_images, train_labels: Training dataset (images and labels).\n",
        "  - test_images, test_labels: Testing dataset.\n",
        "  - num_classes: Number of unique classes in the dataset.\n",
        "  - epochs: Number of training epochs (default is 10).\n",
        "  - validation_split: Fraction of the training data to be used as validation data (default is 0.1).\n",
        "  - batch_size: Number of samples per gradient update (default is 32).\n",
        "  - learning_rate: Learning rate for the optimizer (default is 0.001).\n",
        "  - optimizer: Type of optimizer to use (default is 'adam').\n",
        "  - loss: Loss function (default is 'categorical_crossentropy').\n",
        "  - metrics: List of metrics to be evaluated by the model during training and testing (default is ['accuracy']).\n",
        "  - early_stopping: Boolean to enable early stopping (default is False).\n",
        "  - dropout_rate: Fraction of the input units to drop (default is 0.0).\n",
        "  - l1_reg, l2_reg: L1 and L2 regularization factors (default is 0.0 for both).\n",
        "\n",
        "This code is a typical example of how to set up a CNN for image classification tasks in TensorFlow, with added features like dropout, L1/L2 regularization, and early stopping for better generalization and performance.\n"
      ],
      "metadata": {
        "id": "I9llJdUIDgf1"
      }
    },
    {
      "cell_type": "code",
      "source": [
        "# Declare function to Builds, compiles, and trains a convolutional neural network model\n",
        "def build_and_train_model(train_images, train_labels, test_images, test_labels,\n",
        "                          num_classes, epochs=10,\n",
        "                          validation_split=0.1,\n",
        "                          batch_size=32,\n",
        "                          learning_rate=0.001,\n",
        "                          optimizer='adam',\n",
        "                          loss='categorical_crossentropy',\n",
        "                          metrics=['accuracy'],\n",
        "                          early_stopping=False,\n",
        "                          dropout_rate=0.0,\n",
        "                          l1_reg=0.0,\n",
        "                          l2_reg=0.0):\n",
        "\n",
        "    # Define the input layer\n",
        "    inputs = tf.keras.Input(shape=(224, 224, 3))\n",
        "\n",
        "    # Convolutional layers with max pooling\n",
        "    x = tf.keras.layers.Conv2D(filters=32, kernel_size=3, activation=\"relu\")(inputs)\n",
        "    x = tf.keras.layers.MaxPooling2D(pool_size=2)(x)\n",
        "    x = tf.keras.layers.Conv2D(filters=64, kernel_size=3, activation=\"relu\")(x)\n",
        "    x = tf.keras.layers.MaxPooling2D(pool_size=2)(x)\n",
        "    x = tf.keras.layers.Conv2D(filters=128, kernel_size=3, activation=\"relu\")(x)\n",
        "\n",
        "    # Flatten the output\n",
        "    x = tf.keras.layers.Flatten()(x)\n",
        "\n",
        "    # Dropout layer\n",
        "    if dropout_rate > 0.0:\n",
        "        x = tf.keras.layers.Dropout(dropout_rate)(x)\n",
        "\n",
        "    # Regularizers\n",
        "    regularizer = tf.keras.regularizers.l1_l2(l1=l1_reg, l2=l2_reg)\n",
        "\n",
        "    # Output layer\n",
        "    outputs = tf.keras.layers.Dense(num_classes, activation=\"softmax\", kernel_regularizer=regularizer)(x)\n",
        "\n",
        "    # Build the model\n",
        "    model = tf.keras.Model(inputs=inputs, outputs=outputs)\n",
        "\n",
        "    # Select optimizer\n",
        "    if optimizer == 'adam':\n",
        "        optimizer = tf.keras.optimizers.Adam(learning_rate=learning_rate)\n",
        "\n",
        "    # Compile the model\n",
        "    model.compile(optimizer=optimizer, loss=loss, metrics=metrics)\n",
        "\n",
        "    # Early stopping callback\n",
        "    callbacks = []\n",
        "    if early_stopping:\n",
        "        callbacks.append(tf.keras.callbacks.EarlyStopping(monitor='val_loss', patience=3))\n",
        "\n",
        "    # Train the model\n",
        "    model.fit(train_images, train_labels, epochs=epochs, batch_size=batch_size, validation_split=validation_split, callbacks=callbacks)\n",
        "\n",
        "    # Evaluate the model\n",
        "    test_loss, test_accuracy = model.evaluate(test_images, test_labels)\n",
        "\n",
        "    # Print the accuracy results for this model\n",
        "    print(f\"Test accuracy: {test_accuracy:.4f}\")\n",
        "\n",
        "    return model, test_accuracy\n",
        "\n",
        "# Determine the number of unique classes in the training labels\n",
        "num_classes = len(np.unique(train_labels))\n",
        "\n",
        "# Execute the function to build, compile, and train the model\n",
        "model, test_accuracy = build_and_train_model(train_images, train_labels, test_images, test_labels, num_classes, epochs=10, validation_split=0.1)\n"
      ],
      "metadata": {
        "colab": {
          "base_uri": "https://localhost:8080/"
        },
        "id": "FyYYc323Lg4J",
        "outputId": "449d6e3f-ec3b-469f-df12-7da610d4aafc"
      },
      "execution_count": 18,
      "outputs": [
        {
          "output_type": "stream",
          "name": "stdout",
          "text": [
            "Epoch 1/10\n",
            "22/22 [==============================] - 78s 3s/step - loss: 0.8668 - accuracy: 0.5022 - val_loss: 0.6968 - val_accuracy: 0.4231\n",
            "Epoch 2/10\n",
            "22/22 [==============================] - 76s 3s/step - loss: 0.6934 - accuracy: 0.5253 - val_loss: 0.6944 - val_accuracy: 0.4744\n",
            "Epoch 3/10\n",
            "22/22 [==============================] - 75s 3s/step - loss: 0.6768 - accuracy: 0.6061 - val_loss: 0.8229 - val_accuracy: 0.4744\n",
            "Epoch 4/10\n",
            "22/22 [==============================] - 75s 3s/step - loss: 0.6051 - accuracy: 0.6941 - val_loss: 0.7961 - val_accuracy: 0.4744\n",
            "Epoch 5/10\n",
            "22/22 [==============================] - 75s 3s/step - loss: 0.4759 - accuracy: 0.7879 - val_loss: 0.9547 - val_accuracy: 0.3974\n",
            "Epoch 6/10\n",
            "22/22 [==============================] - 75s 3s/step - loss: 0.3496 - accuracy: 0.8398 - val_loss: 1.0707 - val_accuracy: 0.4359\n",
            "Epoch 7/10\n",
            "22/22 [==============================] - 84s 4s/step - loss: 0.2509 - accuracy: 0.8831 - val_loss: 1.2646 - val_accuracy: 0.4103\n",
            "Epoch 8/10\n",
            "22/22 [==============================] - 75s 3s/step - loss: 0.1855 - accuracy: 0.9250 - val_loss: 1.4536 - val_accuracy: 0.4872\n",
            "Epoch 9/10\n",
            "22/22 [==============================] - 75s 3s/step - loss: 0.1261 - accuracy: 0.9553 - val_loss: 1.7977 - val_accuracy: 0.3846\n",
            "Epoch 10/10\n",
            "22/22 [==============================] - 76s 3s/step - loss: 0.0890 - accuracy: 0.9726 - val_loss: 2.1791 - val_accuracy: 0.4744\n",
            "4/4 [==============================] - 3s 742ms/step - loss: 2.6968 - accuracy: 0.4433\n",
            "Test accuracy: 0.4433\n"
          ]
        }
      ]
    },
    {
      "cell_type": "markdown",
      "source": [
        "This represents a basic CNN structure with three convolutional layers. A max-pooling layer follows each convolutional layer. The filter sizes increase with each layer (32, 64, 128), a common practice in CNN design to progressively capture more complex features."
      ],
      "metadata": {
        "id": "E4y9cC6quur8"
      }
    },
    {
      "cell_type": "markdown",
      "source": [
        "###Adjusting Model Architecture"
      ],
      "metadata": {
        "id": "pizjklSrlKmn"
      }
    },
    {
      "cell_type": "code",
      "source": [
        "# Declare function to build, compile, and train a convolutional neural network model\n",
        "def build_and_train_model(train_images, train_labels, test_images, test_labels,\n",
        "                          num_classes, epochs=10,\n",
        "                          validation_split=0.1,\n",
        "                          batch_size=32,\n",
        "                          learning_rate=0.001,\n",
        "                          optimizer='adam',\n",
        "                          loss='categorical_crossentropy',\n",
        "                          metrics=['accuracy'],\n",
        "                          early_stopping=False,\n",
        "                          dropout_rate=0.0,\n",
        "                          l1_reg=0.0,\n",
        "                          l2_reg=0.0,\n",
        "                          activation='relu'):  # Added activation parameter\n",
        "\n",
        "    # Define the input layer\n",
        "    inputs = tf.keras.Input(shape=(224, 224, 3))\n",
        "\n",
        "    # Convolutional layers with max pooling - modified structure\n",
        "    x = tf.keras.layers.Conv2D(filters=32, kernel_size=3, activation=activation)(inputs)\n",
        "    x = tf.keras.layers.MaxPooling2D(pool_size=2)(x)\n",
        "    x = tf.keras.layers.Conv2D(filters=64, kernel_size=3, activation=activation)(x)\n",
        "    x = tf.keras.layers.MaxPooling2D(pool_size=2)(x)\n",
        "    x = tf.keras.layers.Conv2D(filters=128, kernel_size=3, activation=activation)(x)\n",
        "    x = tf.keras.layers.MaxPooling2D(pool_size=2)(x)\n",
        "    x = tf.keras.layers.Conv2D(filters=256, kernel_size=3, activation=activation)(x)  # New layer added\n",
        "    x = tf.keras.layers.MaxPooling2D(pool_size=2)(x)\n",
        "\n",
        "    # Flatten the output\n",
        "    x = tf.keras.layers.Flatten()(x)\n",
        "\n",
        "    # Dropout layer\n",
        "    if dropout_rate > 0.0:\n",
        "        x = tf.keras.layers.Dropout(dropout_rate)(x)\n",
        "\n",
        "    # Regularizers\n",
        "    regularizer = tf.keras.regularizers.l1_l2(l1=l1_reg, l2=l2_reg)\n",
        "\n",
        "    # Output layer\n",
        "    outputs = tf.keras.layers.Dense(num_classes, activation=\"softmax\", kernel_regularizer=regularizer)(x)\n",
        "\n",
        "    # Build the model\n",
        "    model = tf.keras.Model(inputs=inputs, outputs=outputs)\n",
        "\n",
        "    # Select optimizer\n",
        "    if optimizer == 'adam':\n",
        "        optimizer = tf.keras.optimizers.Adam(learning_rate=learning_rate)\n",
        "\n",
        "    # Compile the model\n",
        "    model.compile(optimizer=optimizer, loss=loss, metrics=metrics)\n",
        "\n",
        "    # Early stopping callback\n",
        "    callbacks = []\n",
        "    if early_stopping:\n",
        "        callbacks.append(tf.keras.callbacks.EarlyStopping(monitor='val_loss', patience=3))\n",
        "\n",
        "    # Train the model\n",
        "    model.fit(train_images, train_labels, epochs=epochs, batch_size=batch_size, validation_split=validation_split, callbacks=callbacks)\n",
        "\n",
        "    # Evaluate the model\n",
        "    test_loss, test_accuracy = model.evaluate(test_images, test_labels)\n",
        "\n",
        "    # Print the accuracy results for this model\n",
        "    print(f\"Test accuracy: {test_accuracy:.4f}\")\n",
        "\n",
        "    return model, test_accuracy\n",
        "\n",
        "# Determine the number of unique classes in the training labels\n",
        "num_classes = len(np.unique(train_labels))\n",
        "\n",
        "# Execute the function to build, compile, and train the model\n",
        "model, test_accuracy = build_and_train_model(train_images, train_labels, test_images, test_labels, num_classes, epochs=10, validation_split=0.1)\n"
      ],
      "metadata": {
        "colab": {
          "base_uri": "https://localhost:8080/"
        },
        "id": "XbXYAz0vlwA2",
        "outputId": "3d0b294a-86d5-461a-d0d3-1fc45c0a57bc"
      },
      "execution_count": 19,
      "outputs": [
        {
          "output_type": "stream",
          "name": "stdout",
          "text": [
            "Epoch 1/10\n",
            "22/22 [==============================] - 93s 4s/step - loss: 0.6956 - accuracy: 0.4921 - val_loss: 0.6932 - val_accuracy: 0.4359\n",
            "Epoch 2/10\n",
            "22/22 [==============================] - 92s 4s/step - loss: 0.6943 - accuracy: 0.5036 - val_loss: 0.6962 - val_accuracy: 0.4744\n",
            "Epoch 3/10\n",
            "22/22 [==============================] - 92s 4s/step - loss: 0.6942 - accuracy: 0.5108 - val_loss: 0.6998 - val_accuracy: 0.5000\n",
            "Epoch 4/10\n",
            "22/22 [==============================] - 96s 4s/step - loss: 0.6842 - accuracy: 0.5844 - val_loss: 0.7066 - val_accuracy: 0.4231\n",
            "Epoch 5/10\n",
            "22/22 [==============================] - 91s 4s/step - loss: 0.6634 - accuracy: 0.5931 - val_loss: 0.7458 - val_accuracy: 0.4487\n",
            "Epoch 6/10\n",
            "22/22 [==============================] - 91s 4s/step - loss: 0.6335 - accuracy: 0.6320 - val_loss: 0.8639 - val_accuracy: 0.5256\n",
            "Epoch 7/10\n",
            "22/22 [==============================] - 91s 4s/step - loss: 0.5899 - accuracy: 0.6465 - val_loss: 0.8620 - val_accuracy: 0.5000\n",
            "Epoch 8/10\n",
            "22/22 [==============================] - 93s 4s/step - loss: 0.5349 - accuracy: 0.6955 - val_loss: 1.0830 - val_accuracy: 0.4487\n",
            "Epoch 9/10\n",
            "22/22 [==============================] - 92s 4s/step - loss: 0.4940 - accuracy: 0.7143 - val_loss: 1.0552 - val_accuracy: 0.4615\n",
            "Epoch 10/10\n",
            "22/22 [==============================] - 91s 4s/step - loss: 0.4518 - accuracy: 0.7720 - val_loss: 1.6242 - val_accuracy: 0.4872\n",
            "4/4 [==============================] - 3s 661ms/step - loss: 1.3505 - accuracy: 0.4742\n",
            "Test accuracy: 0.4742\n"
          ]
        }
      ]
    },
    {
      "cell_type": "markdown",
      "source": [
        "**Analyzing the differences between the two Models**:\n",
        "\n",
        "1. **Additional Convolutional Layer**:\n",
        "   - **First Code**: Has three convolutional layers.\n",
        "   - **Second Code**: Introduces a fourth convolutional layer with 256 filters.\n",
        "   - **Analysis**: Additional layers can help the network learn more complex patterns, contributing to increased accuracy in the second model.\n",
        "\n",
        "2. **Max Pooling Layers**:\n",
        "   - **Both Codes**: Include max pooling layers after each convolutional layer.\n",
        "   - **Analysis**: Max pooling is consistent in both, and it is standard in CNN architectures for downscaling feature maps and reducing computational load.\n",
        "\n",
        "3. **Activation Function as a Parameter**:\n",
        "   - **First Code**: Uses ReLU activation hardcoded.\n",
        "   - **Second Code**: Adds an 'activation' parameter, although it defaults to 'ReLU'.\n",
        "   - **Analysis**: This change does not affect the model's performance since ReLU is used in both cases. However, having it as a parameter adds flexibility for future adjustments.\n",
        "\n",
        "4. **Dropout, Regularization, and Other Parameters**:\n",
        "   - **Both Codes**: Dropout rate, L1 and L2 regularizations, and other parameters like learning rate, loss function, and optimizer are consistent.\n",
        "   - **Analysis**: No impact on the difference in performance due to these factors.\n",
        "\n",
        "**Suggestions for Further Improvement**:\n",
        "\n",
        "1. **Data Augmentation**:\n",
        "   - Consider using data augmentation techniques to increase the diversity of the training data, which can improve the model's ability to generalize.\n",
        "\n",
        "2. **Tuning Hyperparameters**:\n",
        "   - Experiment with different values for batch size, learning rate, and number of epochs.\n",
        "   - Adjust the dropout rate to prevent overfitting.\n",
        "   - Try different regularization strengths.\n",
        "\n",
        "3. **Modify Network Architecture**:\n",
        "   - Experiment with different numbers of filters and kernel sizes in convolutional layers.\n",
        "   - Add more convolutional layers or reduce them if the model is too complex and overfitting.\n",
        "   - Try using different types of layers like Batch Normalization or different pooling strategies.\n",
        "\n",
        "4. **Advanced Optimizers**:\n",
        "   - Beyond Adam, explore other optimizers like SGD with momentum, RMSprop, etc., which might yield better results in specific scenarios.\n",
        "\n",
        "5. **Use of pre-trained Models**:\n",
        "   - Implement transfer learning with pre-trained models like ResNet, VGGNet, etc., which can significantly boost performance, especially with limited data.\n",
        "\n",
        "6. **Fine-Tuning Activation Functions**:\n",
        "   - Experiment with activation functions like LeakyReLU, ELU, or Swish to see if they offer performance benefits.\n",
        "\n",
        "7. **Early Stopping and Callbacks**:\n",
        "   - Utilize early stopping more effectively to avoid overfitting.\n",
        "   - Use additional callbacks like ModelCheckpoint to save the best model during training.\n",
        "\n",
        "8. **Layer-Specific Adjustments**:\n",
        "   - Consider adjusting the pooling sizes or strides in convolutional layers to see how they affect model performance.\n",
        "\n",
        "9. **Evaluation on a Validation Set**:\n",
        "   - Besides test set evaluation, regularly evaluate the model on a separate validation set during training to monitor performance and adjust accordingly.\n",
        "\n",
        "10. **Error Analysis**:\n",
        "    - Perform error analysis to understand where the model is making mistakes and if there are specific patterns or classes where it is underperforming.\n"
      ],
      "metadata": {
        "id": "vB0LxSfSCROu"
      }
    },
    {
      "cell_type": "markdown",
      "source": [
        "###Tuning Hyperparameters"
      ],
      "metadata": {
        "id": "J5eIvuUXDnHz"
      }
    },
    {
      "cell_type": "markdown",
      "source": [
        "- Experiment with different values for batch size, learning rate, and number of epochs"
      ],
      "metadata": {
        "id": "xXo2I1sKEDTz"
      }
    },
    {
      "cell_type": "code",
      "source": [
        "# Declare function to build, compile, and train a convolutional neural network model\n",
        "def build_and_train_model(train_images, train_labels, test_images, test_labels,\n",
        "\n",
        "                          num_classes, epochs=20, # Changed from 10 to 20\n",
        "                          validation_split=0.1,\n",
        "                          batch_size=64,          # Changed from 32 to 64\n",
        "                          learning_rate=0.0005,   # Changed from 0.001 to 0.0005\n",
        "                          optimizer='adam',\n",
        "                          loss='categorical_crossentropy',\n",
        "                          metrics=['accuracy'],\n",
        "                          early_stopping=False,\n",
        "                          dropout_rate=0.0,\n",
        "                          l1_reg=0.0,\n",
        "                          l2_reg=0.0,\n",
        "                          activation='relu'):\n",
        "\n",
        "    # Define the input layer\n",
        "    inputs = tf.keras.Input(shape=(224, 224, 3))\n",
        "\n",
        "    # Convolutional layers with max pooling\n",
        "    x = tf.keras.layers.Conv2D(filters=32, kernel_size=3, activation=activation)(inputs)\n",
        "    x = tf.keras.layers.MaxPooling2D(pool_size=2)(x)\n",
        "    x = tf.keras.layers.Conv2D(filters=64, kernel_size=3, activation=activation)(x)\n",
        "    x = tf.keras.layers.MaxPooling2D(pool_size=2)(x)\n",
        "    x = tf.keras.layers.Conv2D(filters=128, kernel_size=3, activation=activation)(x)\n",
        "    x = tf.keras.layers.MaxPooling2D(pool_size=2)(x)\n",
        "    x = tf.keras.layers.Conv2D(filters=256, kernel_size=3, activation=activation)(x)\n",
        "    x = tf.keras.layers.MaxPooling2D(pool_size=2)(x)\n",
        "\n",
        "    # Flatten the output\n",
        "    x = tf.keras.layers.Flatten()(x)\n",
        "\n",
        "    # Dropout layer\n",
        "    if dropout_rate > 0.0:\n",
        "        x = tf.keras.layers.Dropout(dropout_rate)(x)\n",
        "\n",
        "    # Regularizers\n",
        "    regularizer = tf.keras.regularizers.l1_l2(l1=l1_reg, l2=l2_reg)\n",
        "\n",
        "    # Output layer\n",
        "    outputs = tf.keras.layers.Dense(num_classes, activation=\"softmax\", kernel_regularizer=regularizer)(x)\n",
        "\n",
        "    # Build the model\n",
        "    model = tf.keras.Model(inputs=inputs, outputs=outputs)\n",
        "\n",
        "    # Select optimizer\n",
        "    if optimizer == 'adam':\n",
        "        optimizer = tf.keras.optimizers.Adam(learning_rate=learning_rate)\n",
        "\n",
        "    # Compile the model\n",
        "    model.compile(optimizer=optimizer, loss=loss, metrics=metrics)\n",
        "\n",
        "    # Early stopping callback\n",
        "    callbacks = []\n",
        "    if early_stopping:\n",
        "        callbacks.append(tf.keras.callbacks.EarlyStopping(monitor='val_loss', patience=3))\n",
        "\n",
        "    # Train the model\n",
        "    model.fit(train_images, train_labels, epochs=epochs, batch_size=batch_size, validation_split=validation_split, callbacks=callbacks)\n",
        "\n",
        "    # Evaluate the model\n",
        "    test_loss, test_accuracy = model.evaluate(test_images, test_labels)\n",
        "\n",
        "    # Print the accuracy results for this model\n",
        "    print(f\"Test accuracy: {test_accuracy:.4f}\")\n",
        "\n",
        "    return model, test_accuracy\n",
        "\n",
        "# Determine the number of unique classes in the training labels\n",
        "num_classes = len(np.unique(train_labels))\n",
        "\n",
        "# Execute the function to build, compile, and train the model\n",
        "model, test_accuracy = build_and_train_model(train_images, train_labels, test_images, test_labels, num_classes, epochs=10, validation_split=0.1)\n"
      ],
      "metadata": {
        "id": "HnC8wzD5EJaN",
        "outputId": "dbe91651-b99c-4344-bfc8-5d34b2582114",
        "colab": {
          "base_uri": "https://localhost:8080/"
        }
      },
      "execution_count": 21,
      "outputs": [
        {
          "output_type": "stream",
          "name": "stdout",
          "text": [
            "Epoch 1/10\n",
            "11/11 [==============================] - 111s 10s/step - loss: 0.7064 - accuracy: 0.4978 - val_loss: 0.6932 - val_accuracy: 0.4872\n",
            "Epoch 2/10\n",
            "11/11 [==============================] - 97s 9s/step - loss: 0.6932 - accuracy: 0.5094 - val_loss: 0.6942 - val_accuracy: 0.4872\n",
            "Epoch 3/10\n",
            "11/11 [==============================] - 93s 8s/step - loss: 0.6894 - accuracy: 0.5859 - val_loss: 0.6997 - val_accuracy: 0.4872\n",
            "Epoch 4/10\n",
            "11/11 [==============================] - 105s 9s/step - loss: 0.6841 - accuracy: 0.5743 - val_loss: 0.7110 - val_accuracy: 0.4872\n",
            "Epoch 5/10\n",
            "11/11 [==============================] - 94s 9s/step - loss: 0.6737 - accuracy: 0.5916 - val_loss: 0.7126 - val_accuracy: 0.5000\n",
            "Epoch 6/10\n",
            "11/11 [==============================] - 94s 9s/step - loss: 0.6578 - accuracy: 0.6595 - val_loss: 0.7272 - val_accuracy: 0.5641\n",
            "Epoch 7/10\n",
            "11/11 [==============================] - 94s 8s/step - loss: 0.6603 - accuracy: 0.6291 - val_loss: 0.7035 - val_accuracy: 0.4615\n",
            "Epoch 8/10\n",
            "11/11 [==============================] - 96s 9s/step - loss: 0.6275 - accuracy: 0.6667 - val_loss: 0.7623 - val_accuracy: 0.5000\n",
            "Epoch 9/10\n",
            "11/11 [==============================] - 94s 9s/step - loss: 0.5939 - accuracy: 0.6782 - val_loss: 0.8376 - val_accuracy: 0.5000\n",
            "Epoch 10/10\n",
            "11/11 [==============================] - 94s 9s/step - loss: 0.5595 - accuracy: 0.6941 - val_loss: 0.8207 - val_accuracy: 0.5385\n",
            "4/4 [==============================] - 5s 1s/step - loss: 0.9243 - accuracy: 0.4227\n",
            "Test accuracy: 0.4227\n"
          ]
        }
      ]
    }
  ]
}