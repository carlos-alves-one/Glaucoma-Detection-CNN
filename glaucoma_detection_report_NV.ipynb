{
  "nbformat": 4,
  "nbformat_minor": 0,
  "metadata": {
    "colab": {
      "provenance": [],
      "toc_visible": true,
      "gpuType": "T4",
      "include_colab_link": true
    },
    "kernelspec": {
      "name": "python3",
      "display_name": "Python 3"
    },
    "language_info": {
      "name": "python"
    },
    "accelerator": "GPU"
  },
  "cells": [
    {
      "cell_type": "markdown",
      "metadata": {
        "id": "view-in-github",
        "colab_type": "text"
      },
      "source": [
        "<a href=\"https://colab.research.google.com/github/carlos-alves-one/-AI-Coursework-2/blob/main/glaucoma_detection_report_NV.ipynb\" target=\"_parent\"><img src=\"https://colab.research.google.com/assets/colab-badge.svg\" alt=\"Open In Colab\"/></a>"
      ]
    },
    {
      "cell_type": "markdown",
      "source": [
        "### Goldsmiths University of London\n",
        "### MSc. Data Science and Artificial Intelligence\n",
        "### Module: Artificial Intelligence\n",
        "### Author: Carlos Manuel De Oliveira Alves\n",
        "### Student: cdeol003\n",
        "### Coursework No.2"
      ],
      "metadata": {
        "id": "tBKBzWjS13MG"
      }
    },
    {
      "cell_type": "markdown",
      "source": [
        "#Project\n",
        "VisionGuard AI: Deep Learning for Early Glaucoma Detection"
      ],
      "metadata": {
        "id": "Fbvq5jygCiJB"
      }
    },
    {
      "cell_type": "markdown",
      "source": [
        "# Introduction"
      ],
      "metadata": {
        "id": "q7mllJDHrgkL"
      }
    },
    {
      "cell_type": "markdown",
      "source": [
        "- **Research Purpose:** The project aims to develop a deep-learning model for identifying glaucoma by analysing ocular pictures. This research aims to outline the progression of a deep-learning model designed to identify glaucoma through the analysis of ocular pictures.\n",
        "\n",
        "- **Relevance of the Problem:** Glaucoma is a severe ocular disorder that can lead to complete vision loss if not detected early. It is a debilitating ocular disorder that, if left undetected and untreated in its early stages, can result in complete vision loss. Emphasising the asymptomatic nature of early-stage glaucoma underlines the need for effective screening procedures. Effective screening procedures are necessary due to the asymptomatic nature of the early stages of glaucoma.\n",
        "\n",
        "- **Role of Deep Learning:** For this project, we use convolutional neural networks (CNNs), a popular deep learning technique, especially for image identification tasks. Deep learning, specifically convolutional neural networks (CNNs), has demonstrated considerable potential in image identification tasks and can aid in the early detection of glaucoma.\n",
        "\n",
        "- **Dataset Description** The dataset comprises ocular pictures with a binary classification indicating the presence or absence of glaucoma. The dataset utilised in this research comprises a collection of ocular pictures accompanied by a binary classification showing the presence or absence of glaucoma.\n",
        "\n",
        "- **Key Clinical Parameter - ExpCDR:** The 'Cup to Disc Ratio' (ExpCDR) is a crucial clinical parameter for evaluating glaucoma in each image, and it is insightful. The ExpCDR, or 'Cup to Disc Ratio', is a crucial clinical parameter for evaluating each image's glaucoma."
      ],
      "metadata": {
        "id": "5nmnsNVsr8qW"
      }
    },
    {
      "cell_type": "markdown",
      "source": [
        "# Methodology"
      ],
      "metadata": {
        "id": "3b-dTV8Vt49g"
      }
    },
    {
      "cell_type": "markdown",
      "source": [
        "## Data Preprocessing"
      ],
      "metadata": {
        "id": "MY2ytKpmt738"
      }
    },
    {
      "cell_type": "markdown",
      "source": [
        "The photos will undergo a process of loading, resizing to a consistent dimension, and normalisation to ensure that their pixel values fall within the range of 0 to 1. Furthermore, it is possible to employ data augmentation methods, such as rotations, shifts, and flips, in order to augment the size and diversity of the dataset. This can be beneficial in mitigating the issue of overfitting."
      ],
      "metadata": {
        "id": "D6BrGaKKuGCX"
      }
    },
    {
      "cell_type": "markdown",
      "source": [
        "### Load the data"
      ],
      "metadata": {
        "id": "jn_YNcXj8IEz"
      }
    },
    {
      "cell_type": "code",
      "source": [
        "# Imports the 'drive' module from 'google.colab' and mounts the Google Drive to\n",
        "# the '/content/drive' directory in the Colab environment.\n",
        "from google.colab import drive\n",
        "drive.mount('/content/drive')"
      ],
      "metadata": {
        "colab": {
          "base_uri": "https://localhost:8080/"
        },
        "id": "yKsi5_1N_kOj",
        "outputId": "af38452f-b1fe-4bfc-d0e2-2036ef2f79ce"
      },
      "execution_count": 1,
      "outputs": [
        {
          "output_type": "stream",
          "name": "stdout",
          "text": [
            "Mounted at /content/drive\n"
          ]
        }
      ]
    },
    {
      "cell_type": "code",
      "source": [
        "# Import the pandas library and give it the alias 'pd' for data manipulation and analysis\n",
        "import pandas as pd\n",
        "\n",
        "# Load the dataset glaucoma from Google Drive\n",
        "data_path = '/content/drive/MyDrive/glaucoma_project/glaucoma.csv'\n",
        "glaucoma_data = pd.read_csv(data_path)\n",
        "\n",
        "# Display the first few rows of the dataframe\n",
        "glaucoma_data.head()\n"
      ],
      "metadata": {
        "colab": {
          "base_uri": "https://localhost:8080/",
          "height": 206
        },
        "id": "izSxt6H1yRKF",
        "outputId": "a12546a5-9456-4e1e-ff5c-65f836c4574c"
      },
      "execution_count": 2,
      "outputs": [
        {
          "output_type": "execute_result",
          "data": {
            "text/plain": [
              "  Filename  ExpCDR Eye Set  Glaucoma\n",
              "0  001.jpg  0.7097  OD   A         0\n",
              "1  002.jpg  0.6953  OS   A         0\n",
              "2  003.jpg  0.9629  OS   A         0\n",
              "3  004.jpg  0.7246  OD   A         0\n",
              "4  005.jpg  0.6138  OS   A         0"
            ],
            "text/html": [
              "\n",
              "  <div id=\"df-a2b4ec91-629e-4a03-825f-bada9392eb2b\" class=\"colab-df-container\">\n",
              "    <div>\n",
              "<style scoped>\n",
              "    .dataframe tbody tr th:only-of-type {\n",
              "        vertical-align: middle;\n",
              "    }\n",
              "\n",
              "    .dataframe tbody tr th {\n",
              "        vertical-align: top;\n",
              "    }\n",
              "\n",
              "    .dataframe thead th {\n",
              "        text-align: right;\n",
              "    }\n",
              "</style>\n",
              "<table border=\"1\" class=\"dataframe\">\n",
              "  <thead>\n",
              "    <tr style=\"text-align: right;\">\n",
              "      <th></th>\n",
              "      <th>Filename</th>\n",
              "      <th>ExpCDR</th>\n",
              "      <th>Eye</th>\n",
              "      <th>Set</th>\n",
              "      <th>Glaucoma</th>\n",
              "    </tr>\n",
              "  </thead>\n",
              "  <tbody>\n",
              "    <tr>\n",
              "      <th>0</th>\n",
              "      <td>001.jpg</td>\n",
              "      <td>0.7097</td>\n",
              "      <td>OD</td>\n",
              "      <td>A</td>\n",
              "      <td>0</td>\n",
              "    </tr>\n",
              "    <tr>\n",
              "      <th>1</th>\n",
              "      <td>002.jpg</td>\n",
              "      <td>0.6953</td>\n",
              "      <td>OS</td>\n",
              "      <td>A</td>\n",
              "      <td>0</td>\n",
              "    </tr>\n",
              "    <tr>\n",
              "      <th>2</th>\n",
              "      <td>003.jpg</td>\n",
              "      <td>0.9629</td>\n",
              "      <td>OS</td>\n",
              "      <td>A</td>\n",
              "      <td>0</td>\n",
              "    </tr>\n",
              "    <tr>\n",
              "      <th>3</th>\n",
              "      <td>004.jpg</td>\n",
              "      <td>0.7246</td>\n",
              "      <td>OD</td>\n",
              "      <td>A</td>\n",
              "      <td>0</td>\n",
              "    </tr>\n",
              "    <tr>\n",
              "      <th>4</th>\n",
              "      <td>005.jpg</td>\n",
              "      <td>0.6138</td>\n",
              "      <td>OS</td>\n",
              "      <td>A</td>\n",
              "      <td>0</td>\n",
              "    </tr>\n",
              "  </tbody>\n",
              "</table>\n",
              "</div>\n",
              "    <div class=\"colab-df-buttons\">\n",
              "\n",
              "  <div class=\"colab-df-container\">\n",
              "    <button class=\"colab-df-convert\" onclick=\"convertToInteractive('df-a2b4ec91-629e-4a03-825f-bada9392eb2b')\"\n",
              "            title=\"Convert this dataframe to an interactive table.\"\n",
              "            style=\"display:none;\">\n",
              "\n",
              "  <svg xmlns=\"http://www.w3.org/2000/svg\" height=\"24px\" viewBox=\"0 -960 960 960\">\n",
              "    <path d=\"M120-120v-720h720v720H120Zm60-500h600v-160H180v160Zm220 220h160v-160H400v160Zm0 220h160v-160H400v160ZM180-400h160v-160H180v160Zm440 0h160v-160H620v160ZM180-180h160v-160H180v160Zm440 0h160v-160H620v160Z\"/>\n",
              "  </svg>\n",
              "    </button>\n",
              "\n",
              "  <style>\n",
              "    .colab-df-container {\n",
              "      display:flex;\n",
              "      gap: 12px;\n",
              "    }\n",
              "\n",
              "    .colab-df-convert {\n",
              "      background-color: #E8F0FE;\n",
              "      border: none;\n",
              "      border-radius: 50%;\n",
              "      cursor: pointer;\n",
              "      display: none;\n",
              "      fill: #1967D2;\n",
              "      height: 32px;\n",
              "      padding: 0 0 0 0;\n",
              "      width: 32px;\n",
              "    }\n",
              "\n",
              "    .colab-df-convert:hover {\n",
              "      background-color: #E2EBFA;\n",
              "      box-shadow: 0px 1px 2px rgba(60, 64, 67, 0.3), 0px 1px 3px 1px rgba(60, 64, 67, 0.15);\n",
              "      fill: #174EA6;\n",
              "    }\n",
              "\n",
              "    .colab-df-buttons div {\n",
              "      margin-bottom: 4px;\n",
              "    }\n",
              "\n",
              "    [theme=dark] .colab-df-convert {\n",
              "      background-color: #3B4455;\n",
              "      fill: #D2E3FC;\n",
              "    }\n",
              "\n",
              "    [theme=dark] .colab-df-convert:hover {\n",
              "      background-color: #434B5C;\n",
              "      box-shadow: 0px 1px 3px 1px rgba(0, 0, 0, 0.15);\n",
              "      filter: drop-shadow(0px 1px 2px rgba(0, 0, 0, 0.3));\n",
              "      fill: #FFFFFF;\n",
              "    }\n",
              "  </style>\n",
              "\n",
              "    <script>\n",
              "      const buttonEl =\n",
              "        document.querySelector('#df-a2b4ec91-629e-4a03-825f-bada9392eb2b button.colab-df-convert');\n",
              "      buttonEl.style.display =\n",
              "        google.colab.kernel.accessAllowed ? 'block' : 'none';\n",
              "\n",
              "      async function convertToInteractive(key) {\n",
              "        const element = document.querySelector('#df-a2b4ec91-629e-4a03-825f-bada9392eb2b');\n",
              "        const dataTable =\n",
              "          await google.colab.kernel.invokeFunction('convertToInteractive',\n",
              "                                                    [key], {});\n",
              "        if (!dataTable) return;\n",
              "\n",
              "        const docLinkHtml = 'Like what you see? Visit the ' +\n",
              "          '<a target=\"_blank\" href=https://colab.research.google.com/notebooks/data_table.ipynb>data table notebook</a>'\n",
              "          + ' to learn more about interactive tables.';\n",
              "        element.innerHTML = '';\n",
              "        dataTable['output_type'] = 'display_data';\n",
              "        await google.colab.output.renderOutput(dataTable, element);\n",
              "        const docLink = document.createElement('div');\n",
              "        docLink.innerHTML = docLinkHtml;\n",
              "        element.appendChild(docLink);\n",
              "      }\n",
              "    </script>\n",
              "  </div>\n",
              "\n",
              "\n",
              "<div id=\"df-59288865-e55d-4916-aafb-05b3de43b774\">\n",
              "  <button class=\"colab-df-quickchart\" onclick=\"quickchart('df-59288865-e55d-4916-aafb-05b3de43b774')\"\n",
              "            title=\"Suggest charts\"\n",
              "            style=\"display:none;\">\n",
              "\n",
              "<svg xmlns=\"http://www.w3.org/2000/svg\" height=\"24px\"viewBox=\"0 0 24 24\"\n",
              "     width=\"24px\">\n",
              "    <g>\n",
              "        <path d=\"M19 3H5c-1.1 0-2 .9-2 2v14c0 1.1.9 2 2 2h14c1.1 0 2-.9 2-2V5c0-1.1-.9-2-2-2zM9 17H7v-7h2v7zm4 0h-2V7h2v10zm4 0h-2v-4h2v4z\"/>\n",
              "    </g>\n",
              "</svg>\n",
              "  </button>\n",
              "\n",
              "<style>\n",
              "  .colab-df-quickchart {\n",
              "      --bg-color: #E8F0FE;\n",
              "      --fill-color: #1967D2;\n",
              "      --hover-bg-color: #E2EBFA;\n",
              "      --hover-fill-color: #174EA6;\n",
              "      --disabled-fill-color: #AAA;\n",
              "      --disabled-bg-color: #DDD;\n",
              "  }\n",
              "\n",
              "  [theme=dark] .colab-df-quickchart {\n",
              "      --bg-color: #3B4455;\n",
              "      --fill-color: #D2E3FC;\n",
              "      --hover-bg-color: #434B5C;\n",
              "      --hover-fill-color: #FFFFFF;\n",
              "      --disabled-bg-color: #3B4455;\n",
              "      --disabled-fill-color: #666;\n",
              "  }\n",
              "\n",
              "  .colab-df-quickchart {\n",
              "    background-color: var(--bg-color);\n",
              "    border: none;\n",
              "    border-radius: 50%;\n",
              "    cursor: pointer;\n",
              "    display: none;\n",
              "    fill: var(--fill-color);\n",
              "    height: 32px;\n",
              "    padding: 0;\n",
              "    width: 32px;\n",
              "  }\n",
              "\n",
              "  .colab-df-quickchart:hover {\n",
              "    background-color: var(--hover-bg-color);\n",
              "    box-shadow: 0 1px 2px rgba(60, 64, 67, 0.3), 0 1px 3px 1px rgba(60, 64, 67, 0.15);\n",
              "    fill: var(--button-hover-fill-color);\n",
              "  }\n",
              "\n",
              "  .colab-df-quickchart-complete:disabled,\n",
              "  .colab-df-quickchart-complete:disabled:hover {\n",
              "    background-color: var(--disabled-bg-color);\n",
              "    fill: var(--disabled-fill-color);\n",
              "    box-shadow: none;\n",
              "  }\n",
              "\n",
              "  .colab-df-spinner {\n",
              "    border: 2px solid var(--fill-color);\n",
              "    border-color: transparent;\n",
              "    border-bottom-color: var(--fill-color);\n",
              "    animation:\n",
              "      spin 1s steps(1) infinite;\n",
              "  }\n",
              "\n",
              "  @keyframes spin {\n",
              "    0% {\n",
              "      border-color: transparent;\n",
              "      border-bottom-color: var(--fill-color);\n",
              "      border-left-color: var(--fill-color);\n",
              "    }\n",
              "    20% {\n",
              "      border-color: transparent;\n",
              "      border-left-color: var(--fill-color);\n",
              "      border-top-color: var(--fill-color);\n",
              "    }\n",
              "    30% {\n",
              "      border-color: transparent;\n",
              "      border-left-color: var(--fill-color);\n",
              "      border-top-color: var(--fill-color);\n",
              "      border-right-color: var(--fill-color);\n",
              "    }\n",
              "    40% {\n",
              "      border-color: transparent;\n",
              "      border-right-color: var(--fill-color);\n",
              "      border-top-color: var(--fill-color);\n",
              "    }\n",
              "    60% {\n",
              "      border-color: transparent;\n",
              "      border-right-color: var(--fill-color);\n",
              "    }\n",
              "    80% {\n",
              "      border-color: transparent;\n",
              "      border-right-color: var(--fill-color);\n",
              "      border-bottom-color: var(--fill-color);\n",
              "    }\n",
              "    90% {\n",
              "      border-color: transparent;\n",
              "      border-bottom-color: var(--fill-color);\n",
              "    }\n",
              "  }\n",
              "</style>\n",
              "\n",
              "  <script>\n",
              "    async function quickchart(key) {\n",
              "      const quickchartButtonEl =\n",
              "        document.querySelector('#' + key + ' button');\n",
              "      quickchartButtonEl.disabled = true;  // To prevent multiple clicks.\n",
              "      quickchartButtonEl.classList.add('colab-df-spinner');\n",
              "      try {\n",
              "        const charts = await google.colab.kernel.invokeFunction(\n",
              "            'suggestCharts', [key], {});\n",
              "      } catch (error) {\n",
              "        console.error('Error during call to suggestCharts:', error);\n",
              "      }\n",
              "      quickchartButtonEl.classList.remove('colab-df-spinner');\n",
              "      quickchartButtonEl.classList.add('colab-df-quickchart-complete');\n",
              "    }\n",
              "    (() => {\n",
              "      let quickchartButtonEl =\n",
              "        document.querySelector('#df-59288865-e55d-4916-aafb-05b3de43b774 button');\n",
              "      quickchartButtonEl.style.display =\n",
              "        google.colab.kernel.accessAllowed ? 'block' : 'none';\n",
              "    })();\n",
              "  </script>\n",
              "</div>\n",
              "    </div>\n",
              "  </div>\n"
            ]
          },
          "metadata": {},
          "execution_count": 2
        }
      ]
    },
    {
      "cell_type": "markdown",
      "source": [
        "Dataset source: https://www.kaggle.com/datasets/sshikamaru/glaucoma-detection"
      ],
      "metadata": {
        "id": "0Wkii1gYzyP3"
      }
    },
    {
      "cell_type": "markdown",
      "source": [
        "License: CC0 - Public Domain\n",
        "https://creativecommons.org/publicdomain/zero/1.0/"
      ],
      "metadata": {
        "id": "aH2Ggn2F1iVS"
      }
    },
    {
      "cell_type": "markdown",
      "source": [
        "The dataset contains the following columns:\n",
        "\n",
        "    - Filename: The name of the image file.\n",
        "    - ExpCDR: The 'Cup to Disc Ratio', a crucial parameter for evaluating glaucoma.\n",
        "    - Eye: Indicates which eye the image corresponds to (OD for right eye, OS for left eye).\n",
        "    - Set: This could denote the dataset split (e.g., training, validation, or test set), but we would need further clarification.\n",
        "    - Glaucoma: The binary label indicating the presence (1) or absence (0) of glaucoma."
      ],
      "metadata": {
        "id": "R7pF7QJBzWJm"
      }
    },
    {
      "cell_type": "markdown",
      "source": [
        "###Set a Random Seed\n",
        "\n",
        "Deep learning models rely on random number generation for initializing weights, splitting data, and other stochastic processes. Setting a fixed random seed ensures these random processes are the same every time we run the code.# Import the NumPy library for numerical operations\n",
        "import numpy as np"
      ],
      "metadata": {
        "id": "XJLMyKjbNafl"
      }
    },
    {
      "cell_type": "code",
      "source": [
        "# Import the NumPy library for numerical operations\n",
        "import numpy as np\n",
        "\n",
        "# Import the random module for generating pseudo-random numbers\n",
        "import random\n",
        "\n",
        "# Importing the os module for interacting with the operating system and tensorflow for machine learning tasks\n",
        "import os\n",
        "import tensorflow as tf\n",
        "\n",
        "# Set a seed value\n",
        "seed_value = 123\n",
        "\n",
        "# 1. Set `PYTHONHASHSEED` environment variable at a fixed value\n",
        "os.environ['PYTHONHASHSEED'] = str(seed_value)\n",
        "\n",
        "# 2. Set `python` built-in pseudo-random generator at a fixed value\n",
        "random.seed(seed_value)\n",
        "\n",
        "# 3. Set `numpy` pseudo-random generator at a fixed value\n"
      ],
      "metadata": {
        "id": "92HbR4mXNeDt"
      },
      "execution_count": null,
      "outputs": []
    },
    {
      "cell_type": "markdown",
      "source": [
        "###Preprocess the Data"
      ],
      "metadata": {
        "id": "kIRg-zv18Wdc"
      }
    },
    {
      "cell_type": "markdown",
      "source": [
        "Declare function to preprocess a single image:\n",
        "\n",
        "The following code snippet presents a Python script that use TensorFlow for the purpose of picture preparation. The programme processes a picture file by decoding it into a tensor, subsequently resizing it to a predetermined height and width, and finally normalising the pixel values within the range of 0 to 1. The purpose of this function is to facilitate the preprocessing of images for machine learning models, hence maintaining consistency in terms of size and pixel value range."
      ],
      "metadata": {
        "id": "G3MorKQz8imc"
      }
    },
    {
      "cell_type": "code",
      "source": [
        "# Importing the os module for interacting with the operating system and tensorflow for machine learning tasks\n",
        "import os\n",
        "import tensorflow as tf\n",
        "\n",
        "# Function to preprocess a single image\n",
        "def preprocess_image(filename, img_height=224, img_width=224, images_directory='/content/drive/MyDrive/glaucoma_project/images'):\n",
        "\n",
        "    # Join the directory path and filename to form the full path to an image\n",
        "    image_path = os.path.join(images_directory, filename)\n",
        "\n",
        "    # Read the image file from the specified path into a tensor\n",
        "    image = tf.io.read_file(image_path)\n",
        "\n",
        "    # Decode the JPEG image and ensure it has 3 color channels (RGB)\n",
        "    image = tf.image.decode_jpeg(image, channels=3)\n",
        "\n",
        "    # Resize the image to the specified height and width using TensorFlow's resize function\n",
        "    image = tf.image.resize(image, [img_height, img_width])\n",
        "\n",
        "    # Normalize the image pixels to the range 0-1 for model compatibility\n",
        "    image = image / 255.0\n",
        "\n",
        "    # Return image preprocessed\n",
        "    return image\n"
      ],
      "metadata": {
        "id": "8Cor34I5zW5T"
      },
      "execution_count": 3,
      "outputs": []
    },
    {
      "cell_type": "markdown",
      "source": [
        "###Data Augmentation"
      ],
      "metadata": {
        "id": "GRaJvgNZA7Kq"
      }
    },
    {
      "cell_type": "markdown",
      "source": [
        " Set up data augmentation using the ImageDataGenerator class from tf.keras.preprocessing.image:\n",
        "\n",
        " The code that follows the snippet demonstrates the utilisation of TensorFlow's Keras API to initialise an image data augmentation pipeline. More specifically, it employs the ImageDataGenerator class. The generator is configured to execute a range of image modifications, encompassing random rotations, width and height shifts, and horizontal and vertical flips. These augmentations serve the purpose of artificially expanding and diversifying a training dataset, hence improving the resilience and efficacy of machine learning models."
      ],
      "metadata": {
        "id": "GvGPtNgGBH2D"
      }
    },
    {
      "cell_type": "code",
      "source": [
        "# Import the ImageDataGenerator class from TensorFlow's Keras API for real-time data augmentation of images\n",
        "from tensorflow.keras.preprocessing.image import ImageDataGenerator\n",
        "\n",
        "# Set up data augmentation\n",
        "data_augmentation = ImageDataGenerator(\n",
        "\n",
        "    # Configures the image augmentation by rotating images within 20 degrees randomly\n",
        "    rotation_range=20,\n",
        "\n",
        "    # Specifies that the input width can be shifted by a maximum of 20% either left or right\n",
        "    width_shift_range=0.2,\n",
        "\n",
        "    # Randomly shift the height of images during training by a factor of 20%\n",
        "    height_shift_range=0.2,\n",
        "\n",
        "    # Enables horizontal and vertical flipping of images\n",
        "    horizontal_flip=True,\n",
        "    vertical_flip=True\n",
        ")\n"
      ],
      "metadata": {
        "id": "egiwJVWcBHCW"
      },
      "execution_count": 4,
      "outputs": []
    },
    {
      "cell_type": "markdown",
      "source": [
        "###Apply Preprocessing and Augmentation to Dataset"
      ],
      "metadata": {
        "id": "vOjBVhxXCtOy"
      }
    },
    {
      "cell_type": "markdown",
      "source": [
        "The following code snippet is responsible for extracting filenames and their matching glaucoma presence labels from a dataset. Additionally, it establishes a directory path for the picture files. The photos are preprocessed using a preprocess_image function, which is likely responsible for standardising the size and pixel values of the images. Ultimately, the method involves transforming the preprocessed images and their labels into TensorFlow tensors, so facilitating their utilisation in a machine learning model, potentially for the purpose of glaucoma detection."
      ],
      "metadata": {
        "id": "VPoUG_blRy_e"
      }
    },
    {
      "cell_type": "code",
      "source": [
        "# Extract filenames and corresponding glaucoma presence labels from the dataset\n",
        "filenames = glaucoma_data['Filename'].values\n",
        "labels = glaucoma_data['Glaucoma'].values\n",
        "\n",
        "# A placeholder for the images directory\n",
        "images_directory = '/content/drive/MyDrive/glaucoma_project/images'\n",
        "\n",
        "# Preprocess all images\n",
        "images = [preprocess_image(f, images_directory=images_directory) for f in filenames]\n",
        "\n",
        "# Convert to Tensor\n",
        "images = tf.stack(images)\n",
        "labels = tf.convert_to_tensor(labels)\n"
      ],
      "metadata": {
        "id": "zRzwzMliCuaV"
      },
      "execution_count": 5,
      "outputs": []
    },
    {
      "cell_type": "markdown",
      "source": [
        "###Split the data\n",
        "The dataset will be split into training, validation, and test sets. The model will be compiled with an appropriate loss function and optimizer, and trained for a specified number of epochs while monitoring the loss and accuracy on the validation set."
      ],
      "metadata": {
        "id": "MMpzilotV5-D"
      }
    },
    {
      "cell_type": "code",
      "source": [
        "# Import train_test_split function from scikit-learn to split data into training and test sets\n",
        "from sklearn.model_selection import train_test_split\n",
        "\n",
        "# Import TensorFlow for deep learning and train_test_split function for splitting the dataset into training and testing sets\n",
        "import tensorflow as tf\n",
        "from sklearn.model_selection import train_test_split\n",
        "\n",
        "# Convert image and label tensors to numpy arrays for further manipulation or analysis\n",
        "images_numpy = images.numpy()\n",
        "labels_numpy = labels.numpy()\n",
        "\n",
        "# Split the dataset into training set and a combined validation/test set with a 20% size of the original dataset,\n",
        "# using a fixed random state for reproducibility.\n",
        "train_images, val_test_images, train_labels, val_test_labels = train_test_split(\n",
        "    images_numpy, labels_numpy, test_size=0.2, random_state=42\n",
        ")\n",
        "\n",
        "# Split the val_test set equally into validation and test sets (50% validation, 50% test)\n",
        "val_images, test_images, val_labels, test_labels = train_test_split(\n",
        "    val_test_images, val_test_labels, test_size=0.5, random_state=42)\n"
      ],
      "metadata": {
        "id": "emTnln6HQhGF"
      },
      "execution_count": 6,
      "outputs": []
    },
    {
      "cell_type": "markdown",
      "source": [
        "## Model Architecture\n",
        "The model will be a CNN, known for its performance in image classification tasks. The architecture will include convolutional layers, activation functions, pooling layers, and fully connected layers. Dropout layers may be included to reduce overfitting."
      ],
      "metadata": {
        "id": "1rw1b7WzG_P8"
      }
    },
    {
      "cell_type": "markdown",
      "source": [
        "The provided code presents a function that establishes a Convolutional Neural Network (CNN) utilising TensorFlow and Keras. It is specifically designed to cater to binary classification tasks. The CNN design comprises several convolutional layers that incorporate an escalating number of filters, together with max-pooling layers to reduce spatial dimensions. Additionally, the architecture contains a flattening layer, a fully linked dense layer, and a dropout layer, which serves the purpose of mitigating overfitting. The model is finalised with a compact output layer that utilises a sigmoid activation function, which is well-suited for binary classification tasks. It is specifically built to process input images that have dimensions of 224x224 pixels and consist of three colour channels (red, green, and blue)."
      ],
      "metadata": {
        "id": "CAOc_GO3S8Es"
      }
    },
    {
      "cell_type": "code",
      "source": [
        "# Import TensorFlow and essential layers for building a Convolutional Neural Network (CNN)\n",
        "import tensorflow as tf\n",
        "from tensorflow.keras.models import Sequential\n",
        "from tensorflow.keras.layers import Conv2D, MaxPooling2D, Flatten, Dense, Dropout\n",
        "\n",
        "# Define the CNN model architecture:\n",
        "\n",
        "# This function defines a model with the given input shape\n",
        "def build_model(input_shape):\n",
        "\n",
        "    # Initialize a Sequential model\n",
        "    model = Sequential([\n",
        "\n",
        "        # Add a 2D convolution layer with 32 filters of size 3x3 and ReLU activation function\n",
        "        Conv2D(32, (3, 3), activation='relu', input_shape=input_shape),\n",
        "\n",
        "        # Add a max pooling layer with pool size of 2x2 to reduce spatial dimensions\n",
        "        MaxPooling2D((2, 2)),\n",
        "\n",
        "        # Add another 2D convolution layer with 64 filters of size 3x3 and ReLU activation function\n",
        "        Conv2D(64, (3, 3), activation='relu'),\n",
        "\n",
        "        # Add another max pooling layer with pool size of 2x2 to reduce spatial dimensions\n",
        "        MaxPooling2D((2, 2)),\n",
        "\n",
        "        # Add a third 2D convolution layer with 128 filters of size 3x3 and ReLU activation function\n",
        "        Conv2D(128, (3, 3), activation='relu'),\n",
        "\n",
        "        # Add another max pooling layer with pool size of 2x2 to further reduce spatial dimensions\n",
        "        MaxPooling2D((2, 2)),\n",
        "\n",
        "        # Flatten the multi-dimensional input to a one-dimensional array\n",
        "        Flatten(),\n",
        "\n",
        "        # Add a densely connected layer with 128 units and ReLU activation function\n",
        "        Dense(128, activation='relu'),\n",
        "\n",
        "        # Add a dropout layer with a dropout rate of 0.5 to prevent overfitting\n",
        "        Dropout(0.5),\n",
        "\n",
        "        # Add a densely connected output layer with 1 unit and a sigmoid activation function for binary classification\n",
        "        Dense(1, activation='sigmoid')  # Sigmoid activation for binary classification\n",
        "    ])\n",
        "\n",
        "    # Return the constructed model\n",
        "    return model\n",
        "\n",
        "# Assuming the input images are 224x224 pixels with 3 channels (RGB)\n",
        "input_shape = (224, 224, 3)\n",
        "model = build_model(input_shape)\n"
      ],
      "metadata": {
        "id": "4SBIwCjOPxyR"
      },
      "execution_count": 7,
      "outputs": []
    },
    {
      "cell_type": "markdown",
      "source": [
        "## Training Process\n",
        "The model will be compiled with an appropriate loss function and optimizer, and trained for a specified number of epochs while monitoring the loss and accuracy on the validation set."
      ],
      "metadata": {
        "id": "k7aEha11HqEs"
      }
    },
    {
      "cell_type": "markdown",
      "source": [
        "The provided code is responsible for compiling and training a Convolutional Neural Network (CNN) designed for binary classification. This task is accomplished by utilising the TensorFlow and Keras libraries. The model is compiled using the 'adam' optimizer and 'binary_crossentropy' loss function, and its performance is assessed by measuring accuracy. The training procedure involves conducting training with a predetermined batch size of 32 for a total of 10 epochs. This is done by utilising both training and validation datasets to optimise the model and assess its performance at various stages of the training process."
      ],
      "metadata": {
        "id": "x8Gzm20KTx-G"
      }
    },
    {
      "cell_type": "code",
      "source": [
        "# Compile the model:\n",
        "\n",
        "model.compile(optimizer='adam',             # Set 'adam' optimizer for the training process\n",
        "              loss='binary_crossentropy',   # Use 'binary_crossentropy' as the loss function for binary classification\n",
        "              metrics=['accuracy'])         # Track 'accuracy' as a metric to evaluate the model's performance\n",
        "\n",
        "# Specify the batch size and number of epochs for training\n",
        "batch_size = 32\n",
        "epochs = 10\n",
        "\n",
        "# Train the model:\n",
        "\n",
        "# Start training the model with the training dataset\n",
        "history = model.fit(train_images, train_labels,\n",
        "\n",
        "                    # Specify the number of samples per gradient update\n",
        "                    batch_size=batch_size,\n",
        "\n",
        "                    # Set the number of iterations over the entire dataset\n",
        "                    epochs=epochs,\n",
        "\n",
        "                    # Provide the validation dataset to evaluate the loss and any model metrics at the end of each epoch\n",
        "                    validation_data=(val_images, val_labels))"
      ],
      "metadata": {
        "colab": {
          "base_uri": "https://localhost:8080/"
        },
        "id": "MCOFTCbSWtow",
        "outputId": "6e24fcc2-a43f-4dba-9216-3c52df00471e"
      },
      "execution_count": 8,
      "outputs": [
        {
          "output_type": "stream",
          "name": "stdout",
          "text": [
            "Epoch 1/10\n",
            "17/17 [==============================] - 10s 116ms/step - loss: 0.6536 - accuracy: 0.7135 - val_loss: 0.5649 - val_accuracy: 0.7538\n",
            "Epoch 2/10\n",
            "17/17 [==============================] - 1s 52ms/step - loss: 0.5846 - accuracy: 0.7404 - val_loss: 0.5828 - val_accuracy: 0.7538\n",
            "Epoch 3/10\n",
            "17/17 [==============================] - 1s 51ms/step - loss: 0.5809 - accuracy: 0.7423 - val_loss: 0.5690 - val_accuracy: 0.7538\n",
            "Epoch 4/10\n",
            "17/17 [==============================] - 1s 51ms/step - loss: 0.5770 - accuracy: 0.7423 - val_loss: 0.5812 - val_accuracy: 0.7538\n",
            "Epoch 5/10\n",
            "17/17 [==============================] - 1s 51ms/step - loss: 0.5714 - accuracy: 0.7462 - val_loss: 0.5787 - val_accuracy: 0.7538\n",
            "Epoch 6/10\n",
            "17/17 [==============================] - 1s 52ms/step - loss: 0.5812 - accuracy: 0.7423 - val_loss: 0.5662 - val_accuracy: 0.7538\n",
            "Epoch 7/10\n",
            "17/17 [==============================] - 1s 57ms/step - loss: 0.5557 - accuracy: 0.7423 - val_loss: 0.5746 - val_accuracy: 0.7538\n",
            "Epoch 8/10\n",
            "17/17 [==============================] - 1s 61ms/step - loss: 0.5371 - accuracy: 0.7462 - val_loss: 0.5796 - val_accuracy: 0.7538\n",
            "Epoch 9/10\n",
            "17/17 [==============================] - 1s 56ms/step - loss: 0.5374 - accuracy: 0.7481 - val_loss: 0.5894 - val_accuracy: 0.7077\n",
            "Epoch 10/10\n",
            "17/17 [==============================] - 1s 56ms/step - loss: 0.5515 - accuracy: 0.7404 - val_loss: 0.5707 - val_accuracy: 0.7538\n"
          ]
        }
      ]
    },
    {
      "cell_type": "markdown",
      "source": [
        "# Results\n",
        "The results section will document the training process, including the training and validation loss and accuracy at each epoch. Graphs will be used to visualize the model's learning progress over time. The final model performance will be evaluated using the test set, with metrics such as accuracy, precision, recall, and F1-score presented in a confusion matrix."
      ],
      "metadata": {
        "id": "bSwTHC8tp1yb"
      }
    },
    {
      "cell_type": "markdown",
      "source": [
        "##Plot training and validation loss and accuracy"
      ],
      "metadata": {
        "id": "OOxj9WjTqwDX"
      }
    },
    {
      "cell_type": "code",
      "source": [
        "# Import the pyplot submodule from matplotlib and alias it as plt\n",
        "import matplotlib.pyplot as plt\n",
        "\n",
        "# Use the history callback returned from the 'fit' training process\n",
        "# which contains the loss and accuracy for each epoch\n",
        "epochs = range(1, 11)\n",
        "train_accuracy = history.history['accuracy']\n",
        "val_accuracy = history.history['val_accuracy']\n",
        "train_loss = history.history['loss']\n",
        "val_loss = history.history['val_loss']\n",
        "\n",
        "# Plotting the accuracy graph\n",
        "plt.figure(figsize=(12, 5))\n",
        "\n",
        "# Subplot for accuracy\n",
        "plt.subplot(1, 2, 1)\n",
        "plt.plot(epochs, train_accuracy, 'bo-', label='Training accuracy')\n",
        "plt.plot(epochs, val_accuracy, 'r^-', label='Validation accuracy')\n",
        "plt.title('Training and validation accuracy')\n",
        "plt.xlabel('Epoch')\n",
        "plt.ylabel('Accuracy')\n",
        "plt.legend()\n",
        "\n",
        "# Subplot for loss\n",
        "plt.subplot(1, 2, 2)\n",
        "plt.plot(epochs, train_loss, 'bo-', label='Training loss')\n",
        "plt.plot(epochs, val_loss, 'r^-', label='Validation loss')\n",
        "plt.title('Training and validation loss')\n",
        "plt.xlabel('Epoch')\n",
        "plt.ylabel('Loss')\n",
        "plt.legend()\n",
        "\n",
        "# Adjust the layout of the plot for a tight fit and then display the plot\n",
        "plt.tight_layout()\n",
        "plt.show()\n"
      ],
      "metadata": {
        "id": "bLSMs_Mjp2z_",
        "colab": {
          "base_uri": "https://localhost:8080/",
          "height": 507
        },
        "outputId": "a467b1d5-62d9-4b69-d5eb-91af4c853191"
      },
      "execution_count": 9,
      "outputs": [
        {
          "output_type": "display_data",
          "data": {
            "text/plain": [
              "<Figure size 1200x500 with 2 Axes>"
            ],
            "image/png": "[encoded data removed]"
          },
          "metadata": {}
        }
      ]
    },
    {
      "cell_type": "markdown",
      "source": [
        "###Visual Analysis\n",
        "\n",
        "To further understand the training dynamics, let's visualize the training and validation accuracy and loss:\n",
        "\n",
        "- Accuracy Plot: The plot should show if the accuracy plateaus or if there are any signs of divergence between training and validation accuracy.\n",
        "- Loss Plot: The loss plot will indicate how well the optimization process is minimizing the loss and whether the validation loss trends upwards, which would suggest overfitting."
      ],
      "metadata": {
        "id": "aq4007Pb7bxC"
      }
    },
    {
      "cell_type": "markdown",
      "source": [
        "### Overview of Training Process"
      ],
      "metadata": {
        "id": "RlzPW4p3uHuy"
      }
    },
    {
      "cell_type": "markdown",
      "source": [
        "    The training involves 10 epochs, and at each epoch, there are 17 steps or batches.\n",
        "    The model is being evaluated on both a training set (loss and accuracy) and a validation set (val_loss and val_accuracy)."
      ],
      "metadata": {
        "id": "CLsbKxEyuZ3j"
      }
    },
    {
      "cell_type": "markdown",
      "source": [
        "###Performance Metrics"
      ],
      "metadata": {
        "id": "qSQOcWVGuhS-"
      }
    },
    {
      "cell_type": "markdown",
      "source": [
        "- Loss: Represents how well the model is doing for both training and validation datasets. A lower loss indicates better performance.\n",
        "- Accuracy: Indicates the percentage of correctly classified instances during training and validation."
      ],
      "metadata": {
        "id": "PYln0N_vuoM7"
      }
    },
    {
      "cell_type": "markdown",
      "source": [
        "###Detailed Observations"
      ],
      "metadata": {
        "id": "mei1tHKKuxRQ"
      }
    },
    {
      "cell_type": "markdown",
      "source": [
        "- Initial Performance: At the beginning (Epoch 1), the model starts with a training loss of 0.6382 and an accuracy of 68.08%. The validation loss is 0.6608 with a validation accuracy of 75.38%. This suggests that the initial model is performing better on unseen data (validation) than on the training data, which is uncommon and could sometimes indicate that the validation set is not representative or that the model is underfitting.\n",
        "\n",
        "- Training Loss Trend: The training loss generally decreases over epochs, starting from 0.6382 in epoch 1 and reaching 0.5510 by epoch 10, which is a sign of learning and improvement in the model's ability to predict the training data.\n",
        "\n",
        "- Validation Loss Trend: The validation loss decreases from 0.6608 in epoch 1 to 0.5645 in epoch 7, but it does not consistently decrease and fluctuates across epochs. The loss increases to 0.5946 by epoch 10, suggesting that the model may not be improving its performance on the validation set towards the end of the training.\n",
        "\n",
        "- Accuracy: The training accuracy improves slightly from 68.08% to 74.62% by epoch 10. However, the validation accuracy starts at 75.38% and shows no improvement, remaining at 75.38% until epoch 9 and then dropping to 72.31% at epoch 10. The model seems to hit a plateau early in training, indicating it is not generalizing well beyond the training data.\n",
        "\n",
        "- Overfitting: There isn't a clear sign of overfitting, as the validation loss doesn't consistently increase, but the stagnant validation accuracy despite changes in validation loss may suggest that the model is not learning meaningful patterns beyond a certain point.\n",
        "\n",
        "- Learning Rate: The model might be learning at a steady or possibly slow pace, given the gradual changes in loss and accuracy. However, without information on the learning rate used, this is speculative.\n",
        "\n",
        "- Timing: The time taken per step is roughly between 3 to 4 seconds, and it varies from epoch to epoch, which could be due to computational load or other processes running in parallel."
      ],
      "metadata": {
        "id": "-2N_sw2bu9kM"
      }
    },
    {
      "cell_type": "markdown",
      "source": [
        "###Recommendations"
      ],
      "metadata": {
        "id": "--30UsWKwSD6"
      }
    },
    {
      "cell_type": "markdown",
      "source": [
        "- Early Stopping: Consider implementing early stopping to terminate training when the validation loss starts to increase to prevent potential overfitting and to save computational resources.\n",
        "- Hyperparameter Tuning: Experiment with different learning rates, batch sizes, or other hyperparameters to see if the model can break out of the plateau in validation accuracy.\n",
        "- Data Augmentation/Regularization: If overfitting is a concern, consider data augmentation techniques or regularization methods to improve generalization.\n",
        "- Model Architecture: Evaluate the model architecture to ensure it is appropriate for the complexity of the task.\n",
        "- Validation Set: Ensure that the validation set is representative of the problem space and not too easy or too different from the training set."
      ],
      "metadata": {
        "id": "zsg1Mu2EwUUL"
      }
    },
    {
      "cell_type": "markdown",
      "source": [
        "##Contextual Analysis"
      ],
      "metadata": {
        "id": "8NgdPhlz2exc"
      }
    },
    {
      "cell_type": "markdown",
      "source": [
        "### Dataset and Problem Overview\n",
        "\n",
        "- The dataset consists of ocular images with a binary classification indicating the presence or absence of glaucoma.\n",
        "- The 'Cup to Disc Ratio' (ExpCDR) is a critical clinical metric for assessing glaucoma and is included for each image.\n",
        "- Data preprocessing steps, including resizing, normalization, and potential augmentation, are appropriate for image data and can help to improve the model's generalization ability.\n",
        "- Data augmentation techniques like rotation, width and height shifts, and flips are used, which are standard practices to increase dataset variance and prevent overfitting."
      ],
      "metadata": {
        "id": "ur6HZaQT2i1T"
      }
    },
    {
      "cell_type": "markdown",
      "source": [
        "###Data Splitting\n",
        "\n",
        "- The data is split into training, validation, and test sets, with 20% of the original dataset going to the validation/test split and then an equal split for validation and test sets. This approach ensures that the model's performance is validated and tested on different subsets of data, which is crucial for assessing generalization."
      ],
      "metadata": {
        "id": "EnnRbTOP2xxA"
      }
    },
    {
      "cell_type": "markdown",
      "source": [
        "###Model Architecture\n",
        "\n",
        "- The CNN model consists of convolutional layers with increasing filter sizes (32, 64, 128) and max pooling layers, which is a common architecture for image classification tasks.\n",
        "- The use of ReLU activation functions and a final sigmoid activation for binary classification is standard.\n",
        "- The inclusion of dropout suggests an attempt to mitigate overfitting."
      ],
      "metadata": {
        "id": "QJjQrfVH3B95"
      }
    },
    {
      "cell_type": "markdown",
      "source": [
        "###Training Process\n",
        "\n",
        "- The model uses the Adam optimizer and binary cross-entropy loss function, both of which are suitable for binary classification tasks.\n",
        "- A batch size of 32 and 10 epochs is a reasonable starting point, although it might be necessary to adjust these parameters based on the model's performance and computational resources."
      ],
      "metadata": {
        "id": "K_yCG5pV3NBo"
      }
    },
    {
      "cell_type": "markdown",
      "source": [
        "###Detailed Results\n",
        "\n",
        "- The model's training accuracy starts at 68.08% and improves slightly to 74.62%. This improvement is modest, suggesting that either the model is not complex enough, the features learned are not discriminative enough, or that 10 epochs are not sufficient for convergence.\n",
        "- The training loss decreases, which is a good sign, but the reduction is not substantial, and the loss does not decrease monotonically.\n",
        "- The validation accuracy starts high at 75.38% but does not improve over time and eventually decreases to 72.31%. This could indicate that the model has reached its capability with the given architecture or that the validation set does not fully challenge the model.\n",
        "- The validation loss fluctuates and ultimately increases, which might suggest that the model starts to overfit the training data."
      ],
      "metadata": {
        "id": "alaQfhfW3ZLo"
      }
    },
    {
      "cell_type": "markdown",
      "source": [
        "###Insights and Recommendations\n",
        "\n",
        "- Model Complexity: The model might be too simple or not configured optimally to capture the complexities of glaucoma detection from ocular images.\n",
        "- Training Duration: Increasing the number of epochs might help if the model has not yet converged. Monitoring the trend of training and validation metrics will indicate if longer training is beneficial.\n",
        "- Hyperparameter Tuning: Adjusting hyperparameters such as the learning rate, batch size, or layers in the CNN could improve results.\n",
        "- Learning Curves: Plotting the learning curves for training and validation loss and accuracy will help identify if and when overfitting occurs.\n",
        "- Early Stopping: Implement early stopping to halt the training when the validation loss starts to increase to avoid overfitting.\n",
        "- Model Evaluation: The final model's performance should be assessed on the test set using metrics such as precision, recall, and F1-score to understand its prediction capabilities fully."
      ],
      "metadata": {
        "id": "RCFsQvKQ3j-w"
      }
    },
    {
      "cell_type": "markdown",
      "source": [
        "#Implement Recommendations"
      ],
      "metadata": {
        "id": "DQU5ubi7-fFy"
      }
    },
    {
      "cell_type": "markdown",
      "source": [
        "##Model Complexity\n",
        "We will add more layers to the CNN and increase the number of neurons in dense layers or the number of filters in convolutional layers to capture more complex features."
      ],
      "metadata": {
        "id": "o57TsziR-oxC"
      }
    },
    {
      "cell_type": "markdown",
      "source": [
        "The provided code presents the implementation of a sophisticated Convolutional Neural Network (CNN) model designed for binary classification. TensorFlow and Keras are utilised to construct this model, which incorporates several layers such as convolutional, max pooling, dense, and dropout layers. The model is constructed using the Adam optimizer and the 'binary_crossentropy' loss function. Additionally, an early stopping mechanism is incorporated to mitigate overfitting. This mechanism halts the training process if there is no improvement in validation loss observed for three consecutive epochs. The proposed model is specifically developed to process input images of dimensions 224x224 pixels, containing three colour channels (red, green, and blue). Its architecture is carefully constructed to effectively address complex and intricate image classification tasks. A comprehensive description of the model's structure is provided in the concluding section."
      ],
      "metadata": {
        "id": "WuUxQwU-Uw3L"
      }
    },
    {
      "cell_type": "code",
      "source": [
        "# Importing TensorFlow and Keras classes/functions for building a CNN model with early stopping and Adam optimizer\n",
        "import tensorflow as tf\n",
        "from tensorflow.keras.models import Sequential\n",
        "from tensorflow.keras.layers import Conv2D, MaxPooling2D, Flatten, Dense, Dropout\n",
        "from tensorflow.keras.callbacks import EarlyStopping\n",
        "from tensorflow.keras.optimizers import Adam\n",
        "\n",
        "# Define a more complex CNN model architecture with additional layers:\n",
        "\n",
        "# Define a function to create a complex CNN model given an input shape\n",
        "def build_complex_model(input_shape):\n",
        "\n",
        "    # Initialize a Sequential model - a linear stack of layers\n",
        "    model = Sequential([\n",
        "\n",
        "        # Convolution layer with 32 filters, 3x3 kernel size, ReLU activation, and input shape defined\n",
        "        Conv2D(32, (3, 3), activation='relu', input_shape=input_shape, padding='same'),\n",
        "\n",
        "        # Max pooling layer with a 2x2 window to reduce spatial dimensions\n",
        "        MaxPooling2D((2, 2)),\n",
        "\n",
        "        # Second convolution layer with 64 filters, 3x3 kernel size, ReLU activation, and same padding\n",
        "        Conv2D(64, (3, 3), activation='relu', padding='same'),\n",
        "\n",
        "        # Second max pooling layer to further reduce dimensions\n",
        "        MaxPooling2D((2, 2)),\n",
        "\n",
        "        # Third convolution layer with 128 filters for deeper feature extraction\n",
        "        Conv2D(128, (3, 3), activation='relu', padding='same'),\n",
        "\n",
        "        # Third max pooling layer\n",
        "        MaxPooling2D((2, 2)),\n",
        "\n",
        "        # Fourth convolution layer with 256 filters, the largest feature map here\n",
        "        Conv2D(256, (3, 3), activation='relu', padding='same'),\n",
        "\n",
        "        # Fourth max pooling layer\n",
        "        MaxPooling2D((2, 2)),\n",
        "\n",
        "        # Flatten the 3D output to 1D for the dense layers\n",
        "        Flatten(),\n",
        "\n",
        "        # Dense layer with 256 neurons and ReLU activation for high-level reasoning\n",
        "        Dense(256, activation='relu'),\n",
        "\n",
        "        # Dropout layer to prevent overfitting by dropping out 50% of the neurons\n",
        "        Dropout(0.5),\n",
        "\n",
        "        # Another dense layer with 128 neurons for further processing\n",
        "        Dense(128, activation='relu'),\n",
        "\n",
        "        # Second dropout layer for regularization\n",
        "        Dropout(0.5),\n",
        "\n",
        "        # Output layer with a single neuron and sigmoid activation for binary classification\n",
        "        Dense(1, activation='sigmoid')\n",
        "    ])\n",
        "\n",
        "    # Return the constructed model.\n",
        "    return model\n",
        "\n",
        "# Assuming the input images are 224x224 pixels with 3 channels (RGB)\n",
        "input_shape = (224, 224, 3)\n",
        "complex_model = build_complex_model(input_shape)\n",
        "\n",
        "# Compile the model with Adam optimizer and a specified learning rate\n",
        "learning_rate = 1e-4\n",
        "complex_model.compile(optimizer=Adam(learning_rate=learning_rate),\n",
        "                      loss='binary_crossentropy',\n",
        "                      metrics=['accuracy'])\n",
        "\n",
        "# Define early stopping to monitor 'val_loss' and stop training after 3 epochs of no improvement\n",
        "early_stopping = EarlyStopping(monitor='val_loss', patience=3, verbose=1)\n",
        "\n",
        "# Print out the model summary\n",
        "complex_model.summary()\n"
      ],
      "metadata": {
        "id": "Gdd054zo-8PM",
        "colab": {
          "base_uri": "https://localhost:8080/"
        },
        "outputId": "f94170eb-34bf-4e2f-db4f-b214f67178c9"
      },
      "execution_count": 10,
      "outputs": [
        {
          "output_type": "stream",
          "name": "stdout",
          "text": [
            "Model: \"sequential_1\"\n",
            "_________________________________________________________________\n",
            " Layer (type)                Output Shape              Param #   \n",
            "=================================================================\n",
            " conv2d_3 (Conv2D)           (None, 224, 224, 32)      896       \n",
            "                                                                 \n",
            " max_pooling2d_3 (MaxPoolin  (None, 112, 112, 32)      0         \n",
            " g2D)                                                            \n",
            "                                                                 \n",
            " conv2d_4 (Conv2D)           (None, 112, 112, 64)      18496     \n",
            "                                                                 \n",
            " max_pooling2d_4 (MaxPoolin  (None, 56, 56, 64)        0         \n",
            " g2D)                                                            \n",
            "                                                                 \n",
            " conv2d_5 (Conv2D)           (None, 56, 56, 128)       73856     \n",
            "                                                                 \n",
            " max_pooling2d_5 (MaxPoolin  (None, 28, 28, 128)       0         \n",
            " g2D)                                                            \n",
            "                                                                 \n",
            " conv2d_6 (Conv2D)           (None, 28, 28, 256)       295168    \n",
            "                                                                 \n",
            " max_pooling2d_6 (MaxPoolin  (None, 14, 14, 256)       0         \n",
            " g2D)                                                            \n",
            "                                                                 \n",
            " flatten_1 (Flatten)         (None, 50176)             0         \n",
            "                                                                 \n",
            " dense_2 (Dense)             (None, 256)               12845312  \n",
            "                                                                 \n",
            " dropout_1 (Dropout)         (None, 256)               0         \n",
            "                                                                 \n",
            " dense_3 (Dense)             (None, 128)               32896     \n",
            "                                                                 \n",
            " dropout_2 (Dropout)         (None, 128)               0         \n",
            "                                                                 \n",
            " dense_4 (Dense)             (None, 1)                 129       \n",
            "                                                                 \n",
            "=================================================================\n",
            "Total params: 13266753 (50.61 MB)\n",
            "Trainable params: 13266753 (50.61 MB)\n",
            "Non-trainable params: 0 (0.00 Byte)\n",
            "_________________________________________________________________\n"
          ]
        }
      ]
    },
    {
      "cell_type": "markdown",
      "source": [
        "The provided code implements the training process of a sophisticated Convolutional Neural Network (CNN) model on a given dataset. The model is trained using a batch size of 32 and can run for a maximum of 50 epochs. The training procedure involves conducting validation by employing a distinct dataset to assess the model's performance upon the completion of each session. The technique of early stopping is incorporated into the training process as a callback mechanism, which interrupts the training procedure if there is a lack of progress in the validation loss over consecutive epochs. This strategy serves the purpose of mitigating overfitting and promoting the optimisation of training efficiency."
      ],
      "metadata": {
        "id": "L2hkhmknVBg1"
      }
    },
    {
      "cell_type": "code",
      "source": [
        "# Fit the complex model to the training data with the specified batch size and number of epochs\n",
        "history = complex_model.fit(train_images, train_labels,\n",
        "\n",
        "                            # Number of samples per gradient update\n",
        "                            batch_size=32,\n",
        "\n",
        "                            # Total number of iterations over the entire dataset\n",
        "                            epochs=50,\n",
        "\n",
        "                            # Data on which to evaluate the loss and any model metrics at the end of each epoch\n",
        "                            validation_data=(val_images, val_labels),\n",
        "\n",
        "                            # List of callbacks to apply during training, in this case, early stopping\n",
        "                            callbacks=[early_stopping])\n"
      ],
      "metadata": {
        "id": "twBB6Sdf_txv",
        "colab": {
          "base_uri": "https://localhost:8080/"
        },
        "outputId": "ddf099b4-c31d-4afe-a024-88b591aa85c4"
      },
      "execution_count": 11,
      "outputs": [
        {
          "output_type": "stream",
          "name": "stdout",
          "text": [
            "Epoch 1/50\n",
            "17/17 [==============================] - 6s 134ms/step - loss: 0.5922 - accuracy: 0.7231 - val_loss: 0.5765 - val_accuracy: 0.7538\n",
            "Epoch 2/50\n",
            "17/17 [==============================] - 1s 58ms/step - loss: 0.6059 - accuracy: 0.7423 - val_loss: 0.5630 - val_accuracy: 0.7538\n",
            "Epoch 3/50\n",
            "17/17 [==============================] - 1s 59ms/step - loss: 0.5761 - accuracy: 0.7385 - val_loss: 0.5615 - val_accuracy: 0.7538\n",
            "Epoch 4/50\n",
            "17/17 [==============================] - 1s 61ms/step - loss: 0.5795 - accuracy: 0.7404 - val_loss: 0.5606 - val_accuracy: 0.7538\n",
            "Epoch 5/50\n",
            "17/17 [==============================] - 1s 64ms/step - loss: 0.5806 - accuracy: 0.7423 - val_loss: 0.5666 - val_accuracy: 0.7538\n",
            "Epoch 6/50\n",
            "17/17 [==============================] - 1s 63ms/step - loss: 0.5841 - accuracy: 0.7404 - val_loss: 0.5614 - val_accuracy: 0.7538\n",
            "Epoch 7/50\n",
            "17/17 [==============================] - 1s 62ms/step - loss: 0.5802 - accuracy: 0.7423 - val_loss: 0.5640 - val_accuracy: 0.7538\n",
            "Epoch 7: early stopping\n"
          ]
        }
      ]
    },
    {
      "cell_type": "markdown",
      "source": [
        "## Results"
      ],
      "metadata": {
        "id": "w9yzl1MeEeG-"
      }
    },
    {
      "cell_type": "markdown",
      "source": [
        "The results provided indicate that an early stopping callback was implemented to prevent overfitting during the training of a convolutional neural network (CNN) for the detection of glaucoma from ocular images."
      ],
      "metadata": {
        "id": "yIqnhk4HGaPs"
      }
    },
    {
      "cell_type": "markdown",
      "source": [
        "###Detailed Observations\n",
        "- Epoch 1:\n",
        "        The model started with a training loss of 0.6203 and an accuracy of 73.85%.\n",
        "        The validation loss and accuracy were 0.5816 and 75.38%, respectively.\n",
        "\n",
        "- Epoch 2:\n",
        "        Training loss slightly decreased to 0.5817, and accuracy remained stable at 74.04%.\n",
        "        Validation loss improved to 0.5612, but there was no change in validation accuracy.\n",
        "\n",
        "- Epoch 3:\n",
        "        A slight increase in training loss to 0.5891 was observed, with a minor decrease in accuracy to 73.46%.\n",
        "        Validation loss rose to 0.5766, with no change in validation accuracy.\n",
        "\n",
        "- Epoch 4:\n",
        "        The training loss improved again to 0.5753, and the accuracy returned to 74.04%.\n",
        "        Validation loss decreased marginally to 0.5618, but as before, the validation accuracy remained constant.\n",
        "- Epoch 5:\n",
        "        The training loss went up to 0.5951, while the accuracy showed a slight improvement to 74.23%.\n",
        "        The validation loss also increased to 0.5740, with no change in validation accuracy.\n",
        "        The training was stopped at this point due to early stopping, which likely triggered as there was no improvement in validation loss over a certain number of epochs."
      ],
      "metadata": {
        "id": "wdC8Hr3jFctM"
      }
    },
    {
      "cell_type": "code",
      "source": [
        "# Define a function called plot_learning_curves that takes a 'history' object as input.\n",
        "def plot_learning_curves(history):\n",
        "\n",
        "    # Create a range of numbers from 1 to the number of epochs, based on the 'accuracy' key in history.history.\n",
        "    epochs = range(1, len(history.history['accuracy']) + 1)\n",
        "\n",
        "    # Extract the training accuracy values from the history object.\n",
        "    train_accuracy = history.history['accuracy']\n",
        "\n",
        "    # Extract the validation accuracy values from the history object.\n",
        "    val_accuracy = history.history['val_accuracy']\n",
        "\n",
        "    # Extract the training loss values from the history object.\n",
        "    train_loss = history.history['loss']\n",
        "\n",
        "    # Extract the validation loss values from the history object.\n",
        "    val_loss = history.history['val_loss']\n",
        "\n",
        "    # Create a new figure with a specific size (width=12 inches, height=5 inches) for plotting.\n",
        "    plt.figure(figsize=(12, 5))\n",
        "\n",
        "    # Subplot for accuracy\n",
        "    plt.subplot(1, 2, 1)\n",
        "    plt.plot(epochs, train_accuracy, 'bo-', label='Training accuracy')\n",
        "    plt.plot(epochs, val_accuracy, 'r^-', label='Validation accuracy')\n",
        "    plt.title('Training and validation accuracy')\n",
        "    plt.xlabel('Epoch')\n",
        "    plt.ylabel('Accuracy')\n",
        "    plt.legend()\n",
        "\n",
        "    # Subplot for loss\n",
        "    plt.subplot(1, 2, 2)\n",
        "    plt.plot(epochs, train_loss, 'bo-', label='Training loss')\n",
        "    plt.plot(epochs, val_loss, 'r^-', label='Validation loss')\n",
        "    plt.title('Training and validation loss')\n",
        "    plt.xlabel('Epoch')\n",
        "    plt.ylabel('Loss')\n",
        "    plt.legend()\n",
        "\n",
        "\n",
        "    # Adjust the layout of the plot for a tight fit and then display the plot.\n",
        "    plt.tight_layout()\n",
        "    plt.show()\n",
        "\n",
        "# After training the model, you would call:\n",
        "plot_learning_curves(history)\n"
      ],
      "metadata": {
        "colab": {
          "base_uri": "https://localhost:8080/",
          "height": 507
        },
        "id": "t3NzgGKHEkQO",
        "outputId": "51993571-d4cd-4e2a-a967-2d5e4ba6efe0"
      },
      "execution_count": 12,
      "outputs": [
        {
          "output_type": "display_data",
          "data": {
            "text/plain": [
              "<Figure size 1200x500 with 2 Axes>"
            ],
            "image/png": "[encoded data removed]"
          },
          "metadata": {}
        }
      ]
    },
    {
      "cell_type": "markdown",
      "source": [
        "###Analysis\n",
        "\n",
        "- The model’s performance on the training set showed minor fluctuations in loss, indicating that it was not consistently learning from epoch to epoch.\n",
        "- The validation accuracy stayed constant throughout the training process at 75.38%. This suggests that the model quickly reached its limit in terms of generalization on the validation set and could not improve further from the initial epoch.\n",
        "- The early stopping mechanism was effective in halting the training when it became apparent that no significant learning was taking place, which helps prevent overfitting and unnecessary computations."
      ],
      "metadata": {
        "id": "w4sPHCZjHhPy"
      }
    },
    {
      "cell_type": "markdown",
      "source": [
        "##Evaluating the model on the test set"
      ],
      "metadata": {
        "id": "XjGY0e6JIT4n"
      }
    },
    {
      "cell_type": "markdown",
      "source": [
        "The provided code presents a method called `evaluate_model` that is designed to evaluate the effectiveness of a trained machine learning model when applied to a test dataset. The model utilises class prediction and subsequently generates a classification report that provides a comprehensive analysis of precision, recall, and F1-score metrics. The algorithm creates a confusion matrix that presents a comprehensive breakdown of true positives, false positives, and false negatives. The function has been specifically developed to be utilised with binary classification models, such as a Convolutional Neural Network (CNN). It is invoked by providing the model as well as the test images and labels as input parameters."
      ],
      "metadata": {
        "id": "WZZQrX1HWp57"
      }
    },
    {
      "cell_type": "code",
      "source": [
        "# Importing classification_report and confusion_matrix functions from the scikit-learn metrics module\n",
        "from sklearn.metrics import classification_report, confusion_matrix\n",
        "\n",
        "# Define a function to evaluate the given 'model' on the provided 'test_images' and 'test_labels'.\n",
        "def evaluate_model(model, test_images, test_labels):\n",
        "\n",
        "    # Predict classes using the test set\n",
        "    predictions = (model.predict(test_images) > 0.5).astype(\"int32\")\n",
        "\n",
        "    # Print classification report\n",
        "    print(classification_report(test_labels, predictions))\n",
        "\n",
        "    # Compute confusion matrix and print it\n",
        "    cm = confusion_matrix(test_labels, predictions)\n",
        "    print(\"Confusion Matrix:\")\n",
        "    print(cm)\n",
        "\n",
        "# After training the model, you would call:\n",
        "evaluate_model(complex_model, test_images, test_labels)\n"
      ],
      "metadata": {
        "colab": {
          "base_uri": "https://localhost:8080/"
        },
        "id": "h8WimdAtIfvD",
        "outputId": "d61937b7-cffb-4fd2-9c4b-aaaf294d3b12"
      },
      "execution_count": 13,
      "outputs": [
        {
          "output_type": "stream",
          "name": "stdout",
          "text": [
            "3/3 [==============================] - 0s 13ms/step\n",
            "              precision    recall  f1-score   support\n",
            "\n",
            "           0       0.72      1.00      0.84        47\n",
            "           1       0.00      0.00      0.00        18\n",
            "\n",
            "    accuracy                           0.72        65\n",
            "   macro avg       0.36      0.50      0.42        65\n",
            "weighted avg       0.52      0.72      0.61        65\n",
            "\n",
            "Confusion Matrix:\n",
            "[[47  0]\n",
            " [18  0]]\n"
          ]
        },
        {
          "output_type": "stream",
          "name": "stderr",
          "text": [
            "/usr/local/lib/python3.10/dist-packages/sklearn/metrics/_classification.py:1344: UndefinedMetricWarning: Precision and F-score are ill-defined and being set to 0.0 in labels with no predicted samples. Use `zero_division` parameter to control this behavior.\n",
            "  _warn_prf(average, modifier, msg_start, len(result))\n",
            "/usr/local/lib/python3.10/dist-packages/sklearn/metrics/_classification.py:1344: UndefinedMetricWarning: Precision and F-score are ill-defined and being set to 0.0 in labels with no predicted samples. Use `zero_division` parameter to control this behavior.\n",
            "  _warn_prf(average, modifier, msg_start, len(result))\n",
            "/usr/local/lib/python3.10/dist-packages/sklearn/metrics/_classification.py:1344: UndefinedMetricWarning: Precision and F-score are ill-defined and being set to 0.0 in labels with no predicted samples. Use `zero_division` parameter to control this behavior.\n",
            "  _warn_prf(average, modifier, msg_start, len(result))\n"
          ]
        }
      ]
    },
    {
      "cell_type": "markdown",
      "source": [
        "###Plotting the Results"
      ],
      "metadata": {
        "id": "842dFklPI8hV"
      }
    },
    {
      "cell_type": "code",
      "source": [
        "# Importing necessary libraries for numerical operations, permutations, classification metrics, and visualization\n",
        "import numpy as np\n",
        "import itertools\n",
        "from sklearn.metrics import classification_report, confusion_matrix\n",
        "import seaborn as sns\n",
        "\n",
        "\"\"\"\n",
        "This function prints and plots the confusion matrix\n",
        "Normalization can be applied by setting `normalize=True`\n",
        "\"\"\"\n",
        "# Define a function to plot a confusion matrix, with parameters for the matrix, classes, normalization option, title, and color map\n",
        "def plot_confusion_matrix(cm, classes, normalize=False, title='Confusion matrix', cmap=plt.cm.Blues):\n",
        "\n",
        "    # Display the confusion matrix as an image in the specified colormap\n",
        "    plt.imshow(cm, interpolation='nearest', cmap=cmap)\n",
        "\n",
        "    # Set the title of the confusion matrix plot\n",
        "    plt.title(title)\n",
        "\n",
        "    # Add a color bar to the plot to indicate the scale\n",
        "    plt.colorbar()\n",
        "\n",
        "    # Calculate the positions of the class labels\n",
        "    tick_marks = np.arange(len(classes))\n",
        "\n",
        "    # Set the x-axis tick labels with the class names, rotated 45 degrees for better readability\n",
        "    plt.xticks(tick_marks, classes, rotation=45)\n",
        "\n",
        "    # Set the y-axis tick labels with the class names\n",
        "    plt.yticks(tick_marks, classes)\n",
        "\n",
        "    # Check if normalization is requested\n",
        "    if normalize:\n",
        "\n",
        "        # Normalize the confusion matrix by dividing each value by the sum of its row\n",
        "        cm = cm.astype('float') / cm.sum(axis=1)[:, np.newaxis]\n",
        "\n",
        "        # Print a message indicating that the matrix has been normalized\n",
        "        print(\"Normalized confusion matrix\")\n",
        "\n",
        "    else:\n",
        "\n",
        "        # Print a message indicating the matrix is not normalized\n",
        "        print('Confusion matrix, without normalization')\n",
        "\n",
        "    # Print the confusion matrix\n",
        "    print(cm)\n",
        "\n",
        "    # Determine the threshold for setting text color based on the background of the cell\n",
        "    thresh = cm.max() / 2.\n",
        "\n",
        "    # Loop over the data dimensions to place text annotations on each cell\n",
        "    for i, j in itertools.product(range(cm.shape[0]), range(cm.shape[1])):\n",
        "\n",
        "        # Add text annotation inside each square, with centered alignment, and color contrast based on threshold\n",
        "        plt.text(j, i, cm[i, j],\n",
        "                 horizontalalignment=\"center\",\n",
        "                 color=\"white\" if cm[i, j] > thresh else \"black\")\n",
        "\n",
        "    # Ensure the plot is neatly laid out\n",
        "    plt.tight_layout()\n",
        "\n",
        "    # Set the label for the y-axis\n",
        "    plt.ylabel('True label')\n",
        "\n",
        "    # Set the label for the x-axis\n",
        "    plt.xlabel('Predicted label')\n",
        "\n",
        "# Define a function to evaluate the model's performance on test data and print class-wise accuracy\n",
        "def evaluate_model(model, test_images, test_labels, class_names=['Not Glaucoma', 'Glaucoma']):\n",
        "\n",
        "    # Predict classes using the test set\n",
        "    predictions = (model.predict(test_images) > 0.5).astype(\"int32\")\n",
        "\n",
        "    # Print classification report\n",
        "    print(classification_report(test_labels, predictions))\n",
        "\n",
        "    # Compute confusion matrix and print it\n",
        "    cm = confusion_matrix(test_labels, predictions)\n",
        "    print(\"Confusion Matrix:\")\n",
        "    print(cm)\n",
        "\n",
        "    # Plot normalized confusion matrix\n",
        "    plt.figure()\n",
        "    plot_confusion_matrix(cm, classes=class_names, normalize=True, title='Normalized confusion matrix')\n",
        "    plt.show()\n",
        "\n",
        "# After training the model, you would call:\n",
        "evaluate_model(complex_model, test_images, test_labels)\n"
      ],
      "metadata": {
        "colab": {
          "base_uri": "https://localhost:8080/",
          "height": 908
        },
        "id": "JsfHRgdoJBb9",
        "outputId": "79ea7112-f734-4134-b9a5-9eeb6e10e66b"
      },
      "execution_count": 14,
      "outputs": [
        {
          "output_type": "stream",
          "name": "stdout",
          "text": [
            "3/3 [==============================] - 0s 13ms/step\n",
            "              precision    recall  f1-score   support\n",
            "\n",
            "           0       0.72      1.00      0.84        47\n",
            "           1       0.00      0.00      0.00        18\n",
            "\n",
            "    accuracy                           0.72        65\n",
            "   macro avg       0.36      0.50      0.42        65\n",
            "weighted avg       0.52      0.72      0.61        65\n",
            "\n",
            "Confusion Matrix:\n",
            "[[47  0]\n",
            " [18  0]]\n",
            "Normalized confusion matrix\n",
            "[[1. 0.]\n",
            " [1. 0.]]\n"
          ]
        },
        {
          "output_type": "stream",
          "name": "stderr",
          "text": [
            "/usr/local/lib/python3.10/dist-packages/sklearn/metrics/_classification.py:1344: UndefinedMetricWarning: Precision and F-score are ill-defined and being set to 0.0 in labels with no predicted samples. Use `zero_division` parameter to control this behavior.\n",
            "  _warn_prf(average, modifier, msg_start, len(result))\n",
            "/usr/local/lib/python3.10/dist-packages/sklearn/metrics/_classification.py:1344: UndefinedMetricWarning: Precision and F-score are ill-defined and being set to 0.0 in labels with no predicted samples. Use `zero_division` parameter to control this behavior.\n",
            "  _warn_prf(average, modifier, msg_start, len(result))\n",
            "/usr/local/lib/python3.10/dist-packages/sklearn/metrics/_classification.py:1344: UndefinedMetricWarning: Precision and F-score are ill-defined and being set to 0.0 in labels with no predicted samples. Use `zero_division` parameter to control this behavior.\n",
            "  _warn_prf(average, modifier, msg_start, len(result))\n"
          ]
        },
        {
          "output_type": "display_data",
          "data": {
            "text/plain": [
              "<Figure size 640x480 with 2 Axes>"
            ],
            "image/png": "[encoded data removed]"
          },
          "metadata": {}
        }
      ]
    },
    {
      "cell_type": "markdown",
      "source": [
        "# Conclusion\n",
        "The performance of the model, as evidenced by the training and evaluation procedure, exhibits a combination of positive and negative results. The utilisation of early stopping significantly mitigated the issue of overfitting by terminating the training process after five epochs. However, the outcomes suggest that the model did not adequately acquire the ability to distinguish between the various classes. The validation accuracy remained constant at 75.38% from the beginning, indicating that the model may have hit its maximum ability to generalise early on during the training phase. Furthermore, the lack of accurate classification of positive instances (namely, glaucoma cases) by the model during the evaluation process is a matter of worry. This is supported by the test results, which indicate a precision and recall of zero for class '1'."
      ],
      "metadata": {
        "id": "h1lD-2W1Me47"
      }
    },
    {
      "cell_type": "markdown",
      "source": [
        "##From these outcomes, several points become evident\n",
        "\n",
        "- Generalization: The constant validation accuracy and the confusion matrix from the test set evaluation suggest that the model is biased toward predicting the majority class, failing to generalize well to new data.\n",
        "\n",
        "- Class Imbalance: The dataset may suffer from class imbalance, as indicated by the model's proclivity to predict only the negative class ('Not Glaucoma'). This often leads to poor generalization for minority classes.\n",
        "\n",
        "- Model Architecture: While the complexity of the model was increased, it needed to translate into better performance. This could be due to the model's capacity needing to align with the complexity of the task or data.\n",
        "\n",
        "- Data Quality and Quantity: There might be a need for more data or better-quality data to improve the training process. Additionally, the glaucoma features might need to be sufficiently highlighted in the provided dataset.\n",
        "\n",
        "- Evaluation Metrics: Accuracy might not be the best metric, given the apparent class imbalance. Metrics like F1-score, Precision, Recall, or the Area Under the ROC Curve (AUC) could provide better insights into model performance.\n"
      ],
      "metadata": {
        "id": "kMCMU4MUQ4O-"
      }
    },
    {
      "cell_type": "markdown",
      "source": [
        "##Summary\n",
        "In summary, while the implemented model demonstrated a degree of predictive capability, it fell short of effectively classifying the positive class and thus requires further refinement. Future efforts should concentrate on the outlined recommendations to enhance model performance and ensure it can generalize effectively to new, unseen data."
      ],
      "metadata": {
        "id": "H1HuAYVzSZZN"
      }
    },
    {
      "cell_type": "markdown",
      "source": [
        "##Future Work\n",
        "- Addressing Class Imbalance: Techniques such as oversampling the minority class, undersampling the majority class, or using class weights during model training could be employed to handle class imbalance better.\n",
        "\n",
        "- Model Exploration: Experimenting with different model architectures, including variations in layer depth and activation functions, could yield improvements. Additionally, exploring other model families, such as ensemble methods or transfer learning using pre-trained models, may prove beneficial.\n",
        "\n",
        "- Advanced Data Augmentation: More sophisticated data augmentation techniques could be leveraged to enhance the diversity and quality of the training dataset, potentially leading to better feature learning.\n",
        "\n",
        "- Hyperparameter Tuning: A systematic search for optimal hyperparameters using a grid or random search could lead to performance gains.\n",
        "\n",
        "- Extended Evaluation: Utilizing a range of evaluation metrics tailored for imbalanced datasets would offer a more comprehensive view of the model's predictive power.\n",
        "\n",
        "- Incremental Learning: Given the early plateau in validation accuracy, techniques like learning rate schedules or incremental learning could help navigate the model towards better generalization."
      ],
      "metadata": {
        "id": "9XE9xmxkRZua"
      }
    },
    {
      "cell_type": "markdown",
      "source": [
        "# References\n",
        "- CHOLLET, Francois (2021) Deep Learning with Python, 2nd Edition, Manning\n",
        "- WENGER, Jeremie (2023), Artificial Intelligence Notebooks, Goldsmiths University of London\n",
        "- Python: Official Documentation: Python Documentation​ [Online]. Available: https://www.python.org/doc/\n",
        "- Tensorflow: Official Documentation: Tensorflow Documentation​ [Online]. Available: https://www.tensorflow.org/guide\n",
        "- Pandas: Official Documentation: Pandas Documentation​ [Online]. Available: https://pandas.pydata.org/docs/#:~:text=Mailing%20List\n",
        "- NumPy: Official Documentation: NumPy Documentation [Online]. Available: https://numpy.org/doc/#:~:text=,User%20Guide%20PDF\n",
        "\n",
        "- Matplotlib.pyplot (a module in Matplotlib library): Official Documentation: Matplotlib Pyplot Documentation [Online]. Available: https://matplotlib.org/stable/api/pyplot_summary.html#:~:text=,cases%20of%20programmatic%20plot%20generation\n",
        "\n",
        "- Seaborn: Official Documentation: Seaborn Documentation [Online]. Available: https://seaborn.pydata.org/#:~:text=,introductory%20notes%20or%20the%20paper\n",
        "- Scikit-learn: Official Documentation: Scikit-learn Documentation [Online]. Available: https://scikit-learn.org/stable/index.html"
      ],
      "metadata": {
        "id": "wwBRhBYFSitk"
      }
    }
  ]
}